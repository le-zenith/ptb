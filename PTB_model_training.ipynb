{
 "cells": [
  {
   "cell_type": "code",
   "execution_count": 1,
   "metadata": {},
   "outputs": [],
   "source": [
    "# Импорт библиотек\n",
    "import numpy as np\n",
    "import pandas as pd\n",
    "import lightgbm as lgb\n",
    "import hyperopt\n",
    "import random\n",
    "import time\n",
    "import itertools\n",
    "from hyperopt import hp, fmin, tpe, STATUS_OK, Trials\n",
    "from hyperopt.pyll import scope\n",
    "from sklearn.model_selection import train_test_split\n",
    "from sklearn.impute import SimpleImputer\n",
    "from sklearn.ensemble import IsolationForest\n",
    "from sklearn.metrics import accuracy_score, recall_score, precision_score, roc_auc_score\n",
    "from sklearn.model_selection import cross_val_score\n",
    "from sklearn.metrics import make_scorer"
   ]
  },
  {
   "cell_type": "code",
   "execution_count": 2,
   "metadata": {},
   "outputs": [],
   "source": [
    "df = pd.read_csv('C:/Users/DFursov/Documents/WORK_FILTER_FOR_ABTR_30NOV18.csv', sep = ';', nrows = 700000, encoding = 'cp1251')"
   ]
  },
  {
   "cell_type": "code",
   "execution_count": 3,
   "metadata": {},
   "outputs": [],
   "source": [
    "# Определение технических функций для очистки таблиц\n",
    "\n",
    "def DelTargetColumns(df, target):\n",
    "    cols = []\n",
    "    for i in df.columns:\n",
    "        if i.find('tar_') != -1:\n",
    "            cols.append(i)\n",
    "    if target in df.columns:\n",
    "        cols.remove(target)\n",
    "    else:\n",
    "        raise NameError('''This column don't exist in pd.DataFrame''')\n",
    "    df = df.drop(cols, axis = 1)\n",
    "    return df\n",
    "\n",
    "def DelObjectColumns(df):\n",
    "    cols = []\n",
    "    for i in df.columns:\n",
    "        if df[i].dtype == 'O':\n",
    "            cols.append(i)\n",
    "    df = df.drop(cols, axis = 1)\n",
    "    return df"
   ]
  },
  {
   "cell_type": "code",
   "execution_count": 4,
   "metadata": {},
   "outputs": [
    {
     "name": "stdout",
     "output_type": "stream",
     "text": [
      "A_ACTIVE_BALANCE_FLG\n",
      "A_AGE\n",
      "A_CURR_BALANCE\n",
      "A_DAYS_LASTCHANGE_BALANCE\n",
      "A_DAYS_NEXTBIRTH\n",
      "A_DAYS_VIP_12M\n",
      "A_DAYS_VIP_1M\n",
      "A_DAYS_VIP_3M\n",
      "A_DAYS_VIP_6M\n",
      "A_DAYS_VIP_END\n",
      "A_SEX\n",
      "A_VIP_FLG\n",
      "bon_amo_acc_avg_12m\n",
      "bon_amo_acc_avg_1m\n",
      "bon_amo_acc_avg_1to12\n",
      "bon_amo_acc_avg_1to3\n",
      "bon_amo_acc_avg_1to6\n",
      "bon_amo_acc_avg_3m\n",
      "bon_amo_acc_avg_3to12\n",
      "bon_amo_acc_avg_3to6\n",
      "bon_amo_acc_avg_6m\n",
      "bon_amo_acc_avg_6to12\n",
      "bon_amo_acc_max_12m\n",
      "bon_amo_acc_max_1m\n",
      "bon_amo_acc_max_1to12\n",
      "bon_amo_acc_max_1to3\n",
      "bon_amo_acc_max_1to6\n",
      "bon_amo_acc_max_3m\n",
      "bon_amo_acc_max_3to12\n",
      "bon_amo_acc_max_3to6\n",
      "bon_amo_acc_max_6m\n",
      "bon_amo_acc_max_6to12\n",
      "bon_amo_acc_min_12m\n",
      "bon_amo_acc_min_1m\n",
      "bon_amo_acc_min_3m\n",
      "bon_amo_acc_min_6m\n",
      "bon_amo_acc_std_12m\n",
      "bon_amo_acc_std_1m\n",
      "bon_amo_acc_std_3m\n",
      "bon_amo_acc_std_6m\n",
      "bon_amo_acc_sum_12m\n",
      "bon_amo_acc_sum_1m\n",
      "bon_amo_acc_sum_1to12\n",
      "bon_amo_acc_sum_1to3\n",
      "bon_amo_acc_sum_1to6\n",
      "bon_amo_acc_sum_3m\n",
      "bon_amo_acc_sum_3to12\n",
      "bon_amo_acc_sum_3to6\n",
      "bon_amo_acc_sum_6m\n",
      "bon_amo_acc_sum_6to12\n",
      "bon_amo_spn_avg_12m\n",
      "bon_amo_spn_avg_1m\n",
      "bon_amo_spn_avg_1to12\n",
      "bon_amo_spn_avg_1to3\n",
      "bon_amo_spn_avg_1to6\n",
      "bon_amo_spn_avg_3m\n",
      "bon_amo_spn_avg_3to12\n",
      "bon_amo_spn_avg_3to6\n",
      "bon_amo_spn_avg_6m\n",
      "bon_amo_spn_avg_6to12\n",
      "bon_amo_spn_max_12m\n",
      "bon_amo_spn_max_1m\n",
      "bon_amo_spn_max_1to12\n",
      "bon_amo_spn_max_1to3\n",
      "bon_amo_spn_max_1to6\n",
      "bon_amo_spn_max_3m\n",
      "bon_amo_spn_max_3to12\n",
      "bon_amo_spn_max_3to6\n",
      "bon_amo_spn_max_6m\n",
      "bon_amo_spn_max_6to12\n",
      "bon_amo_spn_min_12m\n",
      "bon_amo_spn_min_1m\n",
      "bon_amo_spn_min_3m\n",
      "bon_amo_spn_min_6m\n",
      "bon_amo_spn_std_12m\n",
      "bon_amo_spn_std_1m\n",
      "bon_amo_spn_std_3m\n",
      "bon_amo_spn_std_6m\n",
      "bon_amo_spn_sum_12m\n",
      "bon_amo_spn_sum_1m\n",
      "bon_amo_spn_sum_1to12\n",
      "bon_amo_spn_sum_1to3\n",
      "bon_amo_spn_sum_1to6\n",
      "bon_amo_spn_sum_3m\n",
      "bon_amo_spn_sum_3to12\n",
      "bon_amo_spn_sum_3to6\n",
      "bon_amo_spn_sum_6m\n",
      "bon_amo_spn_sum_6to12\n",
      "bon_cnt_spn_12m\n",
      "bon_cnt_spn_1m\n",
      "bon_cnt_spn_3m\n",
      "bon_cnt_spn_6m\n",
      "bon_ind_acc_12m\n",
      "bon_ind_spn_12m\n",
      "bon_ind_spn_1m\n",
      "bon_ind_spn_3m\n",
      "bon_ind_spn_6m\n",
      "bon_shr_amo_acc_12m\n",
      "bon_shr_amo_acc_1m\n",
      "bon_shr_amo_acc_3m\n",
      "bon_shr_amo_acc_6m\n",
      "bon_shr_amo_spn_12m\n",
      "bon_shr_amo_spn_1m\n",
      "bon_shr_amo_spn_3m\n",
      "bon_shr_amo_spn_6m\n",
      "bon_shr_ch_spn_12m\n",
      "bon_shr_ch_spn_1m\n",
      "bon_shr_ch_spn_3m\n",
      "bon_shr_ch_spn_6m\n",
      "ch_amo_avg_12m\n",
      "ch_amo_avg_1m\n",
      "ch_amo_avg_1to12\n",
      "ch_amo_avg_1to3\n",
      "ch_amo_avg_1to6\n",
      "ch_amo_avg_3m\n",
      "ch_amo_avg_3to12\n",
      "ch_amo_avg_3to6\n",
      "ch_amo_avg_6m\n",
      "ch_amo_avg_6to12\n",
      "ch_amo_max_12m\n",
      "ch_amo_max_1m\n",
      "ch_amo_max_1to12\n",
      "ch_amo_max_1to3\n",
      "ch_amo_max_1to6\n",
      "ch_amo_max_3m\n",
      "ch_amo_max_3to12\n",
      "ch_amo_max_3to6\n",
      "ch_amo_max_6m\n",
      "ch_amo_max_6to12\n",
      "ch_amo_min_12m\n",
      "ch_amo_min_1m\n",
      "ch_amo_min_3m\n",
      "ch_amo_min_6m\n",
      "ch_amo_std_12m\n",
      "ch_amo_std_1m\n",
      "ch_amo_std_3m\n",
      "ch_amo_std_6m\n",
      "ch_amo_sum_12m\n",
      "ch_amo_sum_1m\n",
      "ch_amo_sum_1to12\n",
      "ch_amo_sum_1to3\n",
      "ch_amo_sum_1to6\n",
      "ch_amo_sum_3m\n",
      "ch_amo_sum_3to12\n",
      "ch_amo_sum_3to6\n",
      "ch_amo_sum_6m\n",
      "ch_amo_sum_6to12\n",
      "ch_cnt_12m\n",
      "ch_cnt_15_12m\n",
      "ch_cnt_1m\n",
      "ch_cnt_1to12\n",
      "ch_cnt_1to3\n",
      "ch_cnt_1to6\n",
      "ch_cnt_3m\n",
      "ch_cnt_3to12\n",
      "ch_cnt_3to6\n",
      "ch_cnt_6m\n",
      "ch_cnt_6to12\n",
      "ch_days_avg_12m\n",
      "ch_days_avg_1m\n",
      "ch_days_avg_1to12\n",
      "ch_days_avg_1to3\n",
      "ch_days_avg_1to6\n",
      "ch_days_avg_3m\n",
      "ch_days_avg_3to12\n",
      "ch_days_avg_3to6\n",
      "ch_days_avg_6m\n",
      "ch_days_avg_6to12\n",
      "ch_days_avg_ex_12m\n",
      "ch_days_avg_ex_1m\n",
      "ch_days_avg_ex_1to12\n",
      "ch_days_avg_ex_1to3\n",
      "ch_days_avg_ex_1to6\n",
      "ch_days_avg_ex_3m\n",
      "ch_days_avg_ex_3to12\n",
      "ch_days_avg_ex_3to6\n",
      "ch_days_avg_ex_6m\n",
      "ch_days_avg_ex_6to12\n",
      "ch_days_max_12m\n",
      "ch_days_max_1m\n",
      "ch_days_max_1to12\n",
      "ch_days_max_1to3\n",
      "ch_days_max_1to6\n",
      "ch_days_max_3m\n",
      "ch_days_max_3to12\n",
      "ch_days_max_3to6\n",
      "ch_days_max_6m\n",
      "ch_days_max_6to12\n",
      "ch_days_min_12m\n",
      "ch_days_min_1m\n",
      "ch_days_min_3m\n",
      "ch_days_min_6m\n",
      "ch_days_std_12m\n",
      "ch_days_std_1m\n",
      "ch_days_std_3m\n",
      "ch_days_std_6m\n",
      "ch_ind_1m\n",
      "ch_ind_3m\n",
      "ch_ind_ge5_12m\n",
      "customer_id\n",
      "dsc_cnt_hol_tar_14\n",
      "dsc_cnt_hol_tar_5\n",
      "dsc_cnt_prehol_tar_14\n",
      "dsc_cnt_prehol_tar_5\n",
      "dsc_ind_sht_tar_14\n",
      "dsc_ind_sht_tar_5\n",
      "first_check_days\n",
      "ind_newcomer\n",
      "itm_amo_sum_12m_C003_bijout\n",
      "itm_amo_sum_12m_C004_shave\n",
      "itm_amo_sum_12m_C005_depil\n",
      "itm_amo_sum_12m_C009_bath\n",
      "itm_amo_sum_12m_C011_BAD\n",
      "itm_amo_sum_12m_C012_paper\n",
      "itm_amo_sum_12m_C014_galantr\n",
      "itm_amo_sum_12m_C015_deodorant\n",
      "itm_amo_sum_12m_C016_make\n",
      "itm_amo_sum_12m_C017_kids\n",
      "itm_amo_sum_12m_C018_pets\n",
      "itm_amo_sum_12m_C020_haircolor\n",
      "itm_amo_sum_12m_C022_wash\n",
      "itm_amo_sum_12m_C023_hairstyle\n",
      "itm_amo_sum_12m_C026_tights\n",
      "itm_amo_sum_12m_C028_soap\n",
      "itm_amo_sum_12m_C032_clothes\n",
      "itm_amo_sum_12m_C033_airfresh\n",
      "itm_amo_sum_12m_C034_frag\n",
      "itm_amo_sum_12m_C041_hygiene\n",
      "itm_amo_sum_12m_C045_haircare\n",
      "itm_amo_sum_12m_C046_facecare\n",
      "itm_amo_sum_12m_C048_oralcare\n",
      "itm_amo_sum_12m_C049_handcare\n",
      "itm_amo_sum_12m_C050_bodycare\n",
      "itm_amo_sum_12m_C053_houseitms\n",
      "itm_amo_sum_12m_C054_cleaning\n",
      "itm_amo_sum_12m_hairmask\n",
      "itm_amo_sum_12m_soap\n",
      "itm_amo_sum_12m_softener\n",
      "itm_amo_sum_12m_toothbrsh\n",
      "itm_amo_sum_1m_C003_bijout\n",
      "itm_amo_sum_1m_C004_shave\n",
      "itm_amo_sum_1m_C005_depil\n",
      "itm_amo_sum_1m_C009_bath\n",
      "itm_amo_sum_1m_C011_BAD\n",
      "itm_amo_sum_1m_C012_paper\n",
      "itm_amo_sum_1m_C014_galantr\n",
      "itm_amo_sum_1m_C015_deodorant\n",
      "itm_amo_sum_1m_C016_make\n",
      "itm_amo_sum_1m_C017_kids\n",
      "itm_amo_sum_1m_C018_pets\n",
      "itm_amo_sum_1m_C020_haircolor\n",
      "itm_amo_sum_1m_C022_wash\n",
      "itm_amo_sum_1m_C023_hairstyle\n",
      "itm_amo_sum_1m_C026_tights\n",
      "itm_amo_sum_1m_C028_soap\n",
      "itm_amo_sum_1m_C032_clothes\n",
      "itm_amo_sum_1m_C033_airfresh\n",
      "itm_amo_sum_1m_C034_frag\n",
      "itm_amo_sum_1m_C041_hygiene\n",
      "itm_amo_sum_1m_C045_haircare\n",
      "itm_amo_sum_1m_C046_facecare\n",
      "itm_amo_sum_1m_C048_oralcare\n",
      "itm_amo_sum_1m_C049_handcare\n",
      "itm_amo_sum_1m_C050_bodycare\n",
      "itm_amo_sum_1m_C053_houseitms\n",
      "itm_amo_sum_1m_C054_cleaning\n",
      "itm_amo_sum_1m_hairmask\n",
      "itm_amo_sum_1m_soap\n",
      "itm_amo_sum_1m_softener\n",
      "itm_amo_sum_1m_toothbrsh\n",
      "itm_amo_sum_3m_C003_bijout\n",
      "itm_amo_sum_3m_C004_shave\n",
      "itm_amo_sum_3m_C005_depil\n",
      "itm_amo_sum_3m_C009_bath\n",
      "itm_amo_sum_3m_C011_BAD\n",
      "itm_amo_sum_3m_C012_paper\n",
      "itm_amo_sum_3m_C014_galantr\n",
      "itm_amo_sum_3m_C015_deodorant\n",
      "itm_amo_sum_3m_C016_make\n",
      "itm_amo_sum_3m_C017_kids\n",
      "itm_amo_sum_3m_C018_pets\n",
      "itm_amo_sum_3m_C020_haircolor\n",
      "itm_amo_sum_3m_C022_wash\n",
      "itm_amo_sum_3m_C023_hairstyle\n",
      "itm_amo_sum_3m_C026_tights\n",
      "itm_amo_sum_3m_C028_soap\n",
      "itm_amo_sum_3m_C032_clothes\n",
      "itm_amo_sum_3m_C033_airfresh\n",
      "itm_amo_sum_3m_C034_frag\n",
      "itm_amo_sum_3m_C041_hygiene\n",
      "itm_amo_sum_3m_C045_haircare\n",
      "itm_amo_sum_3m_C046_facecare\n",
      "itm_amo_sum_3m_C048_oralcare\n",
      "itm_amo_sum_3m_C049_handcare\n",
      "itm_amo_sum_3m_C050_bodycare\n",
      "itm_amo_sum_3m_C053_houseitms\n",
      "itm_amo_sum_3m_C054_cleaning\n",
      "itm_amo_sum_3m_hairmask\n",
      "itm_amo_sum_3m_soap\n",
      "itm_amo_sum_3m_softener\n",
      "itm_amo_sum_3m_toothbrsh\n",
      "itm_amo_sum_6m_C003_bijout\n",
      "itm_amo_sum_6m_C004_shave\n",
      "itm_amo_sum_6m_C005_depil\n",
      "itm_amo_sum_6m_C009_bath\n",
      "itm_amo_sum_6m_C011_BAD\n",
      "itm_amo_sum_6m_C012_paper\n",
      "itm_amo_sum_6m_C014_galantr\n",
      "itm_amo_sum_6m_C015_deodorant\n",
      "itm_amo_sum_6m_C016_make\n",
      "itm_amo_sum_6m_C017_kids\n",
      "itm_amo_sum_6m_C018_pets\n",
      "itm_amo_sum_6m_C020_haircolor\n",
      "itm_amo_sum_6m_C022_wash\n",
      "itm_amo_sum_6m_C023_hairstyle\n",
      "itm_amo_sum_6m_C026_tights\n",
      "itm_amo_sum_6m_C028_soap\n",
      "itm_amo_sum_6m_C032_clothes\n",
      "itm_amo_sum_6m_C033_airfresh\n",
      "itm_amo_sum_6m_C034_frag\n",
      "itm_amo_sum_6m_C041_hygiene\n",
      "itm_amo_sum_6m_C045_haircare\n",
      "itm_amo_sum_6m_C046_facecare\n",
      "itm_amo_sum_6m_C048_oralcare\n",
      "itm_amo_sum_6m_C049_handcare\n",
      "itm_amo_sum_6m_C050_bodycare\n",
      "itm_amo_sum_6m_C053_houseitms\n",
      "itm_amo_sum_6m_C054_cleaning\n",
      "itm_amo_sum_6m_hairmask\n",
      "itm_amo_sum_6m_soap\n",
      "itm_amo_sum_6m_softener\n",
      "itm_amo_sum_6m_toothbrsh\n",
      "itm_cnt_sum_12m_C003_bijout\n",
      "itm_cnt_sum_12m_C004_shave\n",
      "itm_cnt_sum_12m_C005_depil\n",
      "itm_cnt_sum_12m_C009_bath\n",
      "itm_cnt_sum_12m_C011_BAD\n",
      "itm_cnt_sum_12m_C012_paper\n",
      "itm_cnt_sum_12m_C014_galantr\n",
      "itm_cnt_sum_12m_C015_deodorant\n",
      "itm_cnt_sum_12m_C016_make\n",
      "itm_cnt_sum_12m_C017_kids\n",
      "itm_cnt_sum_12m_C018_pets\n",
      "itm_cnt_sum_12m_C020_haircolor\n",
      "itm_cnt_sum_12m_C022_wash\n",
      "itm_cnt_sum_12m_C023_hairstyle\n",
      "itm_cnt_sum_12m_C026_tights\n",
      "itm_cnt_sum_12m_C028_soap\n",
      "itm_cnt_sum_12m_C032_clothes\n",
      "itm_cnt_sum_12m_C033_airfresh\n",
      "itm_cnt_sum_12m_C034_frag\n",
      "itm_cnt_sum_12m_C041_hygiene\n",
      "itm_cnt_sum_12m_C045_haircare\n",
      "itm_cnt_sum_12m_C046_facecare\n",
      "itm_cnt_sum_12m_C048_oralcare\n",
      "itm_cnt_sum_12m_C049_handcare\n",
      "itm_cnt_sum_12m_C050_bodycare\n",
      "itm_cnt_sum_12m_C053_houseitms\n",
      "itm_cnt_sum_12m_C054_cleaning\n",
      "itm_cnt_sum_12m_hairmask\n",
      "itm_cnt_sum_12m_soap\n",
      "itm_cnt_sum_12m_softener\n",
      "itm_cnt_sum_12m_toothbrsh\n",
      "itm_cnt_sum_1m_C003_bijout\n",
      "itm_cnt_sum_1m_C004_shave\n",
      "itm_cnt_sum_1m_C005_depil\n",
      "itm_cnt_sum_1m_C009_bath\n",
      "itm_cnt_sum_1m_C011_BAD\n",
      "itm_cnt_sum_1m_C012_paper\n",
      "itm_cnt_sum_1m_C014_galantr\n",
      "itm_cnt_sum_1m_C015_deodorant\n",
      "itm_cnt_sum_1m_C016_make\n",
      "itm_cnt_sum_1m_C017_kids\n",
      "itm_cnt_sum_1m_C018_pets\n",
      "itm_cnt_sum_1m_C020_haircolor\n"
     ]
    },
    {
     "name": "stdout",
     "output_type": "stream",
     "text": [
      "itm_cnt_sum_1m_C022_wash\n",
      "itm_cnt_sum_1m_C023_hairstyle\n",
      "itm_cnt_sum_1m_C026_tights\n",
      "itm_cnt_sum_1m_C028_soap\n",
      "itm_cnt_sum_1m_C032_clothes\n",
      "itm_cnt_sum_1m_C033_airfresh\n",
      "itm_cnt_sum_1m_C034_frag\n",
      "itm_cnt_sum_1m_C041_hygiene\n",
      "itm_cnt_sum_1m_C045_haircare\n",
      "itm_cnt_sum_1m_C046_facecare\n",
      "itm_cnt_sum_1m_C048_oralcare\n",
      "itm_cnt_sum_1m_C049_handcare\n",
      "itm_cnt_sum_1m_C050_bodycare\n",
      "itm_cnt_sum_1m_C053_houseitms\n",
      "itm_cnt_sum_1m_C054_cleaning\n",
      "itm_cnt_sum_1m_hairmask\n",
      "itm_cnt_sum_1m_soap\n",
      "itm_cnt_sum_1m_softener\n",
      "itm_cnt_sum_1m_toothbrsh\n",
      "itm_cnt_sum_3m_C003_bijout\n",
      "itm_cnt_sum_3m_C004_shave\n",
      "itm_cnt_sum_3m_C005_depil\n",
      "itm_cnt_sum_3m_C009_bath\n",
      "itm_cnt_sum_3m_C011_BAD\n",
      "itm_cnt_sum_3m_C012_paper\n",
      "itm_cnt_sum_3m_C014_galantr\n",
      "itm_cnt_sum_3m_C015_deodorant\n",
      "itm_cnt_sum_3m_C016_make\n",
      "itm_cnt_sum_3m_C017_kids\n",
      "itm_cnt_sum_3m_C018_pets\n",
      "itm_cnt_sum_3m_C020_haircolor\n",
      "itm_cnt_sum_3m_C022_wash\n",
      "itm_cnt_sum_3m_C023_hairstyle\n",
      "itm_cnt_sum_3m_C026_tights\n",
      "itm_cnt_sum_3m_C028_soap\n",
      "itm_cnt_sum_3m_C032_clothes\n",
      "itm_cnt_sum_3m_C033_airfresh\n",
      "itm_cnt_sum_3m_C034_frag\n",
      "itm_cnt_sum_3m_C041_hygiene\n",
      "itm_cnt_sum_3m_C045_haircare\n",
      "itm_cnt_sum_3m_C046_facecare\n",
      "itm_cnt_sum_3m_C048_oralcare\n",
      "itm_cnt_sum_3m_C049_handcare\n",
      "itm_cnt_sum_3m_C050_bodycare\n",
      "itm_cnt_sum_3m_C053_houseitms\n",
      "itm_cnt_sum_3m_C054_cleaning\n",
      "itm_cnt_sum_3m_hairmask\n",
      "itm_cnt_sum_3m_soap\n",
      "itm_cnt_sum_3m_softener\n",
      "itm_cnt_sum_3m_toothbrsh\n",
      "itm_cnt_sum_6m_C003_bijout\n",
      "itm_cnt_sum_6m_C004_shave\n",
      "itm_cnt_sum_6m_C005_depil\n",
      "itm_cnt_sum_6m_C009_bath\n",
      "itm_cnt_sum_6m_C011_BAD\n",
      "itm_cnt_sum_6m_C012_paper\n",
      "itm_cnt_sum_6m_C014_galantr\n",
      "itm_cnt_sum_6m_C015_deodorant\n",
      "itm_cnt_sum_6m_C016_make\n",
      "itm_cnt_sum_6m_C017_kids\n",
      "itm_cnt_sum_6m_C018_pets\n",
      "itm_cnt_sum_6m_C020_haircolor\n",
      "itm_cnt_sum_6m_C022_wash\n",
      "itm_cnt_sum_6m_C023_hairstyle\n",
      "itm_cnt_sum_6m_C026_tights\n",
      "itm_cnt_sum_6m_C028_soap\n",
      "itm_cnt_sum_6m_C032_clothes\n",
      "itm_cnt_sum_6m_C033_airfresh\n",
      "itm_cnt_sum_6m_C034_frag\n",
      "itm_cnt_sum_6m_C041_hygiene\n",
      "itm_cnt_sum_6m_C045_haircare\n",
      "itm_cnt_sum_6m_C046_facecare\n",
      "itm_cnt_sum_6m_C048_oralcare\n",
      "itm_cnt_sum_6m_C049_handcare\n",
      "itm_cnt_sum_6m_C050_bodycare\n",
      "itm_cnt_sum_6m_C053_houseitms\n",
      "itm_cnt_sum_6m_C054_cleaning\n",
      "itm_cnt_sum_6m_hairmask\n",
      "itm_cnt_sum_6m_soap\n",
      "itm_cnt_sum_6m_softener\n",
      "itm_cnt_sum_6m_toothbrsh\n",
      "itm_days_C003_bijout\n",
      "itm_days_C004_shave\n",
      "itm_days_C005_depil\n",
      "itm_days_C009_bath\n",
      "itm_days_C011_BAD\n",
      "itm_days_C012_paper\n",
      "itm_days_C014_galantr\n",
      "itm_days_C015_deodorant\n",
      "itm_days_C016_make\n",
      "itm_days_C017_kids\n",
      "itm_days_C018_pets\n",
      "itm_days_C020_haircolor\n",
      "itm_days_C022_wash\n",
      "itm_days_C023_hairstyle\n",
      "itm_days_C026_tights\n",
      "itm_days_C028_soap\n",
      "itm_days_C032_clothes\n",
      "itm_days_C033_airfresh\n",
      "itm_days_C034_frag\n",
      "itm_days_C041_hygiene\n",
      "itm_days_C045_haircare\n",
      "itm_days_C046_facecare\n",
      "itm_days_C048_oralcare\n",
      "itm_days_C049_handcare\n",
      "itm_days_C050_bodycare\n",
      "itm_days_C053_houseitms\n",
      "itm_days_C054_cleaning\n",
      "itm_days_hairmask\n",
      "itm_days_soap\n",
      "itm_days_softener\n",
      "itm_days_toothbrsh\n",
      "itm_ind_12m_C003_bijout\n",
      "itm_ind_12m_C004_shave\n",
      "itm_ind_12m_C005_depil\n",
      "itm_ind_12m_C009_bath\n",
      "itm_ind_12m_C011_BAD\n",
      "itm_ind_12m_C012_paper\n",
      "itm_ind_12m_C014_galantr\n",
      "itm_ind_12m_C015_deodorant\n",
      "itm_ind_12m_C016_make\n",
      "itm_ind_12m_C017_kids\n",
      "itm_ind_12m_C018_pets\n",
      "itm_ind_12m_C020_haircolor\n",
      "itm_ind_12m_C022_wash\n",
      "itm_ind_12m_C023_hairstyle\n",
      "itm_ind_12m_C026_tights\n",
      "itm_ind_12m_C028_soap\n",
      "itm_ind_12m_C032_clothes\n",
      "itm_ind_12m_C033_airfresh\n",
      "itm_ind_12m_C034_frag\n",
      "itm_ind_12m_C041_hygiene\n",
      "itm_ind_12m_C045_haircare\n",
      "itm_ind_12m_C046_facecare\n",
      "itm_ind_12m_C048_oralcare\n",
      "itm_ind_12m_C049_handcare\n",
      "itm_ind_12m_C050_bodycare\n",
      "itm_ind_12m_C053_houseitms\n",
      "itm_ind_12m_C054_cleaning\n",
      "itm_ind_12m_hairmask\n",
      "itm_ind_12m_soap\n",
      "itm_ind_12m_softener\n",
      "itm_ind_12m_toothbrsh\n",
      "itm_ind_1m_C003_bijout\n",
      "itm_ind_1m_C004_shave\n",
      "itm_ind_1m_C005_depil\n",
      "itm_ind_1m_C009_bath\n",
      "itm_ind_1m_C011_BAD\n",
      "itm_ind_1m_C012_paper\n",
      "itm_ind_1m_C014_galantr\n",
      "itm_ind_1m_C015_deodorant\n",
      "itm_ind_1m_C016_make\n",
      "itm_ind_1m_C017_kids\n",
      "itm_ind_1m_C018_pets\n",
      "itm_ind_1m_C020_haircolor\n",
      "itm_ind_1m_C022_wash\n",
      "itm_ind_1m_C023_hairstyle\n",
      "itm_ind_1m_C026_tights\n",
      "itm_ind_1m_C028_soap\n",
      "itm_ind_1m_C032_clothes\n",
      "itm_ind_1m_C033_airfresh\n",
      "itm_ind_1m_C034_frag\n",
      "itm_ind_1m_C041_hygiene\n",
      "itm_ind_1m_C045_haircare\n",
      "itm_ind_1m_C046_facecare\n",
      "itm_ind_1m_C048_oralcare\n",
      "itm_ind_1m_C049_handcare\n",
      "itm_ind_1m_C050_bodycare\n",
      "itm_ind_1m_C053_houseitms\n",
      "itm_ind_1m_C054_cleaning\n",
      "itm_ind_1m_hairmask\n",
      "itm_ind_1m_soap\n",
      "itm_ind_1m_softener\n",
      "itm_ind_1m_toothbrsh\n",
      "itm_ind_3m_C003_bijout\n",
      "itm_ind_3m_C004_shave\n",
      "itm_ind_3m_C005_depil\n",
      "itm_ind_3m_C009_bath\n",
      "itm_ind_3m_C011_BAD\n",
      "itm_ind_3m_C012_paper\n",
      "itm_ind_3m_C014_galantr\n",
      "itm_ind_3m_C015_deodorant\n",
      "itm_ind_3m_C016_make\n",
      "itm_ind_3m_C017_kids\n",
      "itm_ind_3m_C018_pets\n",
      "itm_ind_3m_C020_haircolor\n",
      "itm_ind_3m_C022_wash\n",
      "itm_ind_3m_C023_hairstyle\n",
      "itm_ind_3m_C026_tights\n",
      "itm_ind_3m_C028_soap\n",
      "itm_ind_3m_C032_clothes\n",
      "itm_ind_3m_C033_airfresh\n",
      "itm_ind_3m_C034_frag\n",
      "itm_ind_3m_C041_hygiene\n",
      "itm_ind_3m_C045_haircare\n",
      "itm_ind_3m_C046_facecare\n",
      "itm_ind_3m_C048_oralcare\n",
      "itm_ind_3m_C049_handcare\n",
      "itm_ind_3m_C050_bodycare\n",
      "itm_ind_3m_C053_houseitms\n",
      "itm_ind_3m_C054_cleaning\n",
      "itm_ind_3m_hairmask\n",
      "itm_ind_3m_soap\n",
      "itm_ind_3m_softener\n",
      "itm_ind_3m_toothbrsh\n",
      "itm_ind_6m_C003_bijout\n",
      "itm_ind_6m_C004_shave\n",
      "itm_ind_6m_C005_depil\n",
      "itm_ind_6m_C009_bath\n",
      "itm_ind_6m_C011_BAD\n",
      "itm_ind_6m_C012_paper\n",
      "itm_ind_6m_C014_galantr\n",
      "itm_ind_6m_C015_deodorant\n",
      "itm_ind_6m_C016_make\n",
      "itm_ind_6m_C017_kids\n",
      "itm_ind_6m_C018_pets\n",
      "itm_ind_6m_C020_haircolor\n",
      "itm_ind_6m_C022_wash\n",
      "itm_ind_6m_C023_hairstyle\n",
      "itm_ind_6m_C026_tights\n",
      "itm_ind_6m_C028_soap\n",
      "itm_ind_6m_C032_clothes\n",
      "itm_ind_6m_C033_airfresh\n",
      "itm_ind_6m_C034_frag\n",
      "itm_ind_6m_C041_hygiene\n",
      "itm_ind_6m_C045_haircare\n",
      "itm_ind_6m_C046_facecare\n",
      "itm_ind_6m_C048_oralcare\n",
      "itm_ind_6m_C049_handcare\n",
      "itm_ind_6m_C050_bodycare\n",
      "itm_ind_6m_C053_houseitms\n",
      "itm_ind_6m_C054_cleaning\n",
      "itm_ind_6m_hairmask\n",
      "itm_ind_6m_soap\n",
      "itm_ind_6m_softener\n",
      "itm_ind_6m_toothbrsh\n",
      "LAST_CHECK_AMO\n",
      "LAST_CHECK_CNT\n",
      "last_check_days\n",
      "LAST_CHECK_POS_AMO_AVG\n",
      "LAST_CHECK_POS_AMO_MAX\n",
      "pct_chng_ch_amo_6\n",
      "pct_chng_pos_cnt_6\n",
      "pos_amo_avg_12m\n",
      "pos_amo_avg_1m\n",
      "pos_amo_avg_3m\n",
      "pos_amo_avg_6m\n",
      "pos_amo_max_12m\n",
      "pos_amo_max_1m\n",
      "pos_amo_max_3m\n",
      "pos_amo_max_6m\n",
      "pos_cnt_avg_12m\n",
      "pos_cnt_avg_1m\n",
      "pos_cnt_avg_1to12\n",
      "pos_cnt_avg_1to3\n",
      "pos_cnt_avg_1to6\n",
      "pos_cnt_avg_3m\n",
      "pos_cnt_avg_3to12\n",
      "pos_cnt_avg_3to6\n",
      "pos_cnt_avg_6m\n",
      "pos_cnt_avg_6to12\n",
      "pos_cnt_max_12m\n",
      "pos_cnt_max_1m\n",
      "pos_cnt_max_1to12\n",
      "pos_cnt_max_1to3\n",
      "pos_cnt_max_1to6\n",
      "pos_cnt_max_3m\n",
      "pos_cnt_max_3to12\n",
      "pos_cnt_max_3to6\n",
      "pos_cnt_max_6m\n",
      "pos_cnt_max_6to12\n",
      "pos_cnt_min_12m\n",
      "pos_cnt_min_1m\n",
      "pos_cnt_min_3m\n",
      "pos_cnt_min_6m\n",
      "pos_cnt_std_12m\n",
      "pos_cnt_std_1m\n",
      "pos_cnt_std_3m\n",
      "pos_cnt_std_6m\n",
      "pos_cnt_sum_12m\n",
      "pos_cnt_sum_1m\n",
      "pos_cnt_sum_1to12\n",
      "pos_cnt_sum_1to3\n",
      "pos_cnt_sum_1to6\n",
      "pos_cnt_sum_3m\n",
      "pos_cnt_sum_3to12\n",
      "pos_cnt_sum_3to6\n",
      "pos_cnt_sum_6m\n",
      "pos_cnt_sum_6to12\n",
      "registr_days\n",
      "sd_ch_amo_6\n",
      "sd_pos_cnt_6\n",
      "tact_ur\n",
      "tar_14d\n",
      "tar_1m\n",
      "tar_5d\n",
      "tar_hairmask_14d\n",
      "tar_hairmask_1m\n",
      "tar_hairmask_5d\n",
      "tar_soap_14d\n",
      "tar_soap_1m\n",
      "tar_soap_5d\n",
      "tar_softener_14d\n",
      "tar_softener_1m\n",
      "tar_softener_5d\n",
      "tar_toothbrsh_14d\n",
      "tar_toothbrsh_1m\n",
      "tar_toothbrsh_5d\n",
      "trend_ch_amo_6\n",
      "trend_pos_cnt_6\n"
     ]
    }
   ],
   "source": [
    "for i in df.columns:\n",
    "    print(i)"
   ]
  },
  {
   "cell_type": "code",
   "execution_count": 5,
   "metadata": {},
   "outputs": [],
   "source": [
    "target = 'tar_14d'\n",
    "df = DelTargetColumns(df, target)\n",
    "df = DelObjectColumns(df)"
   ]
  },
  {
   "cell_type": "code",
   "execution_count": 6,
   "metadata": {},
   "outputs": [],
   "source": [
    "train_columns = list(df.columns)\n",
    "train_columns.remove(target)\n",
    "y = df[target]\n",
    "X = df[train_columns]"
   ]
  },
  {
   "cell_type": "code",
   "execution_count": 7,
   "metadata": {},
   "outputs": [],
   "source": [
    "# Откладываем 20% данных для тестовой выборки. Валидируемся кросс-валидацией на 5 фолдов на train-наборе\n",
    "\n",
    "x_train, x_test, y_train, y_test = train_test_split(X, y, test_size = 0.2)"
   ]
  },
  {
   "cell_type": "code",
   "execution_count": null,
   "metadata": {},
   "outputs": [],
   "source": [
    "# Убираем выбросы из данных\n",
    "\n",
    "del df\n",
    "smp = SimpleImputer(strategy = 'median')\n",
    "x_train = smp.fit_transform(x_train)\n",
    "x_test = smp.transform(x_test)\n",
    "iso_forest = IsolationForest(random_state = 42, bootstrap = True)\n",
    "outliers = iso_forest.fit_predict(x_train, y_train)\n",
    "x_train = pd.DataFrame(data = x_train, columns = train_columns)\n",
    "x_train['outliers'] = outliers\n",
    "x_train = x_train[x_train['outliers'] == 1]\n",
    "x_train = x_train.drop('outliers', axis = 1)\n",
    "y_train = y_train[outliers == 1]\n",
    "x_train.replace(-np.inf, 0, inplace = True)\n",
    "x_train.replace(np.inf, 0, inplace = True)"
   ]
  },
  {
   "cell_type": "markdown",
   "metadata": {},
   "source": [
    "### Неоткалиброванный классификатор + hyperopt"
   ]
  },
  {
   "cell_type": "code",
   "execution_count": 10,
   "metadata": {},
   "outputs": [],
   "source": [
    "# Пространство перебора гиперпараметров для hyperopt\n",
    "\n",
    "space ={\n",
    "        'boosting_type': hp.choice( 'boosting_type', ['gbdt', 'dart' ] ),\n",
    "        'max_depth': scope.int(hp.quniform(\"max_depth\", 4, 9, 1)),\n",
    "        'n_estimators': scope.int(hp.quniform('n_estimators', 100, 1000, 10)),\n",
    "        'num_leaves': scope.int(hp.quniform ('num_leaves', 20, 100, 1)),\n",
    "        'min_data_in_leaf':  scope.int(hp.quniform ('min_data_in_leaf', 10, 100, 1)),\n",
    "        'feature_fraction': hp.uniform('feature_fraction', 0.75, 1.0),\n",
    "        'bagging_fraction': hp.uniform('bagging_fraction', 0.75, 1.0),\n",
    "        'learning_rate': hp.loguniform('learning_rate', -6.9, -0.5),\n",
    "        'min_sum_hessian_in_leaf': hp.loguniform('min_sum_hessian_in_leaf', 0, 2.3),\n",
    "        'lambda_l1': hp.uniform('lambda_l1', 1e-4, 1e-6 ),\n",
    "        'lambda_l2': hp.uniform('lambda_l2', 1e-4, 1e-6 ),\n",
    "        'seed': hp.randint('seed',2000000)\n",
    "       }"
   ]
  },
  {
   "cell_type": "code",
   "execution_count": 11,
   "metadata": {},
   "outputs": [],
   "source": [
    "# Целевая функция для hyperopt (по ней оптимизируемся)\n",
    "\n",
    "def objective(space):\n",
    "    clf = lgb.LGBMClassifier(**space)\n",
    "    current_score = cross_val_score(clf, x_train, y_train, cv = 5, scoring = make_scorer(roc_auc_score, needs_proba = True)).mean()\n",
    "    return -current_score"
   ]
  },
  {
   "cell_type": "code",
   "execution_count": 14,
   "metadata": {},
   "outputs": [
    {
     "name": "stdout",
     "output_type": "stream",
     "text": [
      "100%|███████████████████████████████████████████████| 10/10 [3:30:23<00:00, 957.39s/it, best loss: -0.7717812367963373]\n"
     ]
    }
   ],
   "source": [
    "# Оптимизация hyperopt\n",
    "\n",
    "best = fmin(fn = objective, space = space, algo = tpe.suggest, max_evals = 10)"
   ]
  },
  {
   "cell_type": "code",
   "execution_count": 15,
   "metadata": {},
   "outputs": [
    {
     "data": {
      "text/plain": [
       "{'bagging_fraction': 0.8597471622559327,\n",
       " 'boosting_type': 1,\n",
       " 'feature_fraction': 0.9008594239897927,\n",
       " 'lambda_l1': 3.272108298454388e-05,\n",
       " 'lambda_l2': 4.054004212823425e-05,\n",
       " 'learning_rate': 0.09002035204434929,\n",
       " 'max_depth': 4.0,\n",
       " 'min_data_in_leaf': 69.0,\n",
       " 'min_sum_hessian_in_leaf': 4.21643503434449,\n",
       " 'n_estimators': 720.0,\n",
       " 'num_leaves': 28.0,\n",
       " 'seed': 1364477}"
      ]
     },
     "execution_count": 15,
     "metadata": {},
     "output_type": "execute_result"
    }
   ],
   "source": [
    "best # наилучшие гиперпараметры"
   ]
  },
  {
   "cell_type": "code",
   "execution_count": 18,
   "metadata": {},
   "outputs": [],
   "source": [
    "# определеяем модель с подобранными гиперпараметрами\n",
    "lgb_model = lgb.LGBMClassifier(boosting_type = 'dart', num_leaves = 28, max_depth = 4, learning_rate = 0.09,\n",
    "                              n_estimators = 720, feature_fraction = 0.9, lambda_l1 = 3.27, lambda_l2 = 4.05,\n",
    "                              min_data_in_leaf = 69, min_sum_hessian_in_leaf = 4.21,\n",
    "                              bagging_fraction = 0.859747, seed = 1364477)"
   ]
  },
  {
   "cell_type": "code",
   "execution_count": 19,
   "metadata": {},
   "outputs": [
    {
     "data": {
      "text/plain": [
       "LGBMClassifier(bagging_fraction=0.859747, boosting_type='dart',\n",
       "        class_weight=None, colsample_bytree=1.0, feature_fraction=0.9,\n",
       "        importance_type='split', lambda_l1=3.27, lambda_l2=4.05,\n",
       "        learning_rate=0.09, max_depth=4, min_child_samples=20,\n",
       "        min_child_weight=0.001, min_data_in_leaf=69, min_split_gain=0.0,\n",
       "        min_sum_hessian_in_leaf=4.21, n_estimators=720, n_jobs=-1,\n",
       "        num_leaves=28, objective=None, random_state=None, reg_alpha=0.0,\n",
       "        reg_lambda=0.0, seed=1364477, silent=True, subsample=1.0,\n",
       "        subsample_for_bin=200000, subsample_freq=0)"
      ]
     },
     "execution_count": 19,
     "metadata": {},
     "output_type": "execute_result"
    }
   ],
   "source": [
    "lgb_model.fit(x_train, y_train)"
   ]
  },
  {
   "cell_type": "code",
   "execution_count": 22,
   "metadata": {},
   "outputs": [],
   "source": [
    "# предсказания для трейна/теста\n",
    "lgb_predict_train = lgb_model.predict_proba(x_train)[:,1]\n",
    "lgb_predict_test = lgb_model.predict_proba(x_test)[:,1]"
   ]
  },
  {
   "cell_type": "code",
   "execution_count": 80,
   "metadata": {},
   "outputs": [],
   "source": [
    "lgb_pred = pd.Series(lgb_predict_test)\n",
    "lgb_pred = lgb_pred.apply(lambda x: 1 if x >= 0.26 else 0)"
   ]
  },
  {
   "cell_type": "code",
   "execution_count": 81,
   "metadata": {},
   "outputs": [
    {
     "name": "stdout",
     "output_type": "stream",
     "text": [
      "0.8120428571428572\n",
      "0.6165904637491836\n",
      "0.03539424843462937\n"
     ]
    }
   ],
   "source": [
    "print(accuracy_score(y_test, lgb_pred))\n",
    "print(recall_score(y_test, lgb_pred))\n",
    "print(precision_score(y_test, lgb_pred))"
   ]
  },
  {
   "cell_type": "code",
   "execution_count": 82,
   "metadata": {},
   "outputs": [
    {
     "data": {
      "text/plain": [
       "array([[112742,  25727],\n",
       "       [   587,    944]], dtype=int64)"
      ]
     },
     "execution_count": 82,
     "metadata": {},
     "output_type": "execute_result"
    }
   ],
   "source": [
    "from sklearn.metrics import confusion_matrix\n",
    "confusion_matrix(y_test, lgb_pred)"
   ]
  },
  {
   "cell_type": "code",
   "execution_count": 86,
   "metadata": {},
   "outputs": [],
   "source": [
    "rc = list()\n",
    "prob = 0\n",
    "while prob < 1:\n",
    "    prob += 0.01\n",
    "    lgb_pred = pd.Series(lgb_predict_test)\n",
    "    lgb_pred = lgb_pred.apply(lambda x: 1 if x >= prob else 0)\n",
    "    rc.append(recall_score(y_test, lgb_pred))"
   ]
  },
  {
   "cell_type": "code",
   "execution_count": 91,
   "metadata": {},
   "outputs": [
    {
     "name": "stderr",
     "output_type": "stream",
     "text": [
      "C:\\Users\\DFursov\\AppData\\Local\\Continuum\\anaconda3\\lib\\site-packages\\sklearn\\metrics\\classification.py:1143: UndefinedMetricWarning: Precision is ill-defined and being set to 0.0 due to no predicted samples.\n",
      "  'precision', 'predicted', average, warn_for)\n"
     ]
    }
   ],
   "source": [
    "prec = list()\n",
    "prob = 0\n",
    "while prob < 1:\n",
    "    prob += 0.01\n",
    "    lgb_pred = pd.Series(lgb_predict_test)\n",
    "    lgb_pred = lgb_pred.apply(lambda x: 1 if x >= prob else 0)\n",
    "    prec.append(precision_score(y_test, lgb_pred))"
   ]
  },
  {
   "cell_type": "code",
   "execution_count": 93,
   "metadata": {},
   "outputs": [
    {
     "data": {
      "text/plain": [
       "<Figure size 1440x720 with 0 Axes>"
      ]
     },
     "execution_count": 93,
     "metadata": {},
     "output_type": "execute_result"
    },
    {
     "data": {
      "image/png": "[encoded data removed]",
      "text/plain": [
       "<Figure size 432x288 with 1 Axes>"
      ]
     },
     "metadata": {
      "needs_background": "light"
     },
     "output_type": "display_data"
    },
    {
     "data": {
      "text/plain": [
       "<Figure size 1440x720 with 0 Axes>"
      ]
     },
     "metadata": {},
     "output_type": "display_data"
    }
   ],
   "source": [
    "plt.plot(prec)\n",
    "plt.figure(figsize = (20, 10))"
   ]
  },
  {
   "cell_type": "code",
   "execution_count": 94,
   "metadata": {},
   "outputs": [
    {
     "data": {
      "text/plain": [
       "<Figure size 1440x720 with 0 Axes>"
      ]
     },
     "execution_count": 94,
     "metadata": {},
     "output_type": "execute_result"
    },
    {
     "data": {
      "image/png": "[encoded data removed]",
      "text/plain": [
       "<Figure size 432x288 with 1 Axes>"
      ]
     },
     "metadata": {
      "needs_background": "light"
     },
     "output_type": "display_data"
    },
    {
     "data": {
      "text/plain": [
       "<Figure size 1440x720 with 0 Axes>"
      ]
     },
     "metadata": {},
     "output_type": "display_data"
    }
   ],
   "source": [
    "plt.plot(rc)\n",
    "plt.figure(figsize = (20, 10))"
   ]
  },
  {
   "cell_type": "code",
   "execution_count": 65,
   "metadata": {},
   "outputs": [
    {
     "data": {
      "image/png": "[encoded data removed]",
      "text/plain": [
       "<Figure size 432x288 with 1 Axes>"
      ]
     },
     "metadata": {
      "needs_background": "light"
     },
     "output_type": "display_data"
    }
   ],
   "source": [
    "import matplotlib.pyplot as plt\n",
    "plt.hist(lgb_predict_test, bins = 25)\n",
    "plt.show()"
   ]
  },
  {
   "cell_type": "code",
   "execution_count": 40,
   "metadata": {},
   "outputs": [],
   "source": [
    "from sklearn.metrics import f1_score"
   ]
  },
  {
   "cell_type": "code",
   "execution_count": 47,
   "metadata": {},
   "outputs": [
    {
     "name": "stdout",
     "output_type": "stream",
     "text": [
      "0.07796467225788314\n"
     ]
    }
   ],
   "source": [
    "print(f1_score(y_test, lgb_pred))"
   ]
  },
  {
   "cell_type": "code",
   "execution_count": 23,
   "metadata": {},
   "outputs": [
    {
     "name": "stdout",
     "output_type": "stream",
     "text": [
      "0.8418388761106084\n",
      "0.789135517763141\n"
     ]
    }
   ],
   "source": [
    "print(roc_auc_score(y_train, lgb_predict_train))\n",
    "print(roc_auc_score(y_test, lgb_predict_test))"
   ]
  },
  {
   "cell_type": "code",
   "execution_count": 25,
   "metadata": {},
   "outputs": [
    {
     "data": {
      "text/plain": [
       "['lgb.pkl']"
      ]
     },
     "execution_count": 25,
     "metadata": {},
     "output_type": "execute_result"
    }
   ],
   "source": [
    "from sklearn.externals import joblib\n",
    "joblib.dump(lgb_model, 'lgb.pkl')"
   ]
  },
  {
   "cell_type": "code",
   "execution_count": 26,
   "metadata": {},
   "outputs": [],
   "source": [
    "bst = joblib.load('lgb.pkl')"
   ]
  },
  {
   "cell_type": "code",
   "execution_count": 98,
   "metadata": {},
   "outputs": [],
   "source": [
    "imp = pd.Series(lgb_model.feature_importances_, index = train_columns)"
   ]
  },
  {
   "cell_type": "code",
   "execution_count": 104,
   "metadata": {},
   "outputs": [],
   "source": [
    "from sklearn.calibration import calibration_curve"
   ]
  },
  {
   "cell_type": "code",
   "execution_count": 105,
   "metadata": {},
   "outputs": [],
   "source": [
    "fop, mpv = calibration_curve(y_test, lgb_predict_test, n_bins = 10)"
   ]
  },
  {
   "cell_type": "code",
   "execution_count": 106,
   "metadata": {},
   "outputs": [
    {
     "data": {
      "text/plain": [
       "[<matplotlib.lines.Line2D at 0x11f0ec21da0>]"
      ]
     },
     "execution_count": 106,
     "metadata": {},
     "output_type": "execute_result"
    },
    {
     "data": {
      "image/png": "[encoded data removed]",
      "text/plain": [
       "<Figure size 1440x720 with 1 Axes>"
      ]
     },
     "metadata": {
      "needs_background": "light"
     },
     "output_type": "display_data"
    }
   ],
   "source": [
    "plt.figure(figsize = (20, 10))\n",
    "plt.plot([0, 1], [0, 1], linestyle = '--', color = 'black')\n",
    "plt.plot(mpv, fop, marker = '.', color = 'red')"
   ]
  },
  {
   "cell_type": "markdown",
   "metadata": {},
   "source": [
    "### Откалиброванный классификатор"
   ]
  },
  {
   "cell_type": "code",
   "execution_count": 108,
   "metadata": {},
   "outputs": [],
   "source": [
    "from sklearn.calibration import CalibratedClassifierCV\n",
    "lgb_model2 = lgb.LGBMClassifier(boosting_type = 'dart', num_leaves = 28, max_depth = 4, learning_rate = 0.09,\n",
    "                              n_estimators = 720, feature_fraction = 0.9, lambda_l1 = 3.27, lambda_l2 = 4.05,\n",
    "                              min_data_in_leaf = 69, min_sum_hessian_in_leaf = 4.21,\n",
    "                              bagging_fraction = 0.859747, seed = 1364477)\n",
    "\n",
    "lgb_calibrated = CalibratedClassifierCV(base_estimator = lgb_model2, method = 'isotonic', cv = 5)"
   ]
  },
  {
   "cell_type": "code",
   "execution_count": 109,
   "metadata": {},
   "outputs": [
    {
     "data": {
      "text/plain": [
       "CalibratedClassifierCV(base_estimator=LGBMClassifier(bagging_fraction=0.859747, boosting_type='dart',\n",
       "        class_weight=None, colsample_bytree=1.0, feature_fraction=0.9,\n",
       "        importance_type='split', lambda_l1=3.27, lambda_l2=4.05,\n",
       "        learning_rate=0.09, max_depth=4, min_child_samples=20,\n",
       "        min_child_weig...a=0.0, seed=1364477, silent=True, subsample=1.0,\n",
       "        subsample_for_bin=200000, subsample_freq=0),\n",
       "            cv=5, method='isotonic')"
      ]
     },
     "execution_count": 109,
     "metadata": {},
     "output_type": "execute_result"
    }
   ],
   "source": [
    "lgb_calibrated.fit(x_train, y_train)"
   ]
  },
  {
   "cell_type": "code",
   "execution_count": 113,
   "metadata": {},
   "outputs": [],
   "source": [
    "pred_calibrated = lgb_calibrated.predict_proba(x_test)[:, 1]"
   ]
  },
  {
   "cell_type": "code",
   "execution_count": 158,
   "metadata": {},
   "outputs": [
    {
     "data": {
      "text/plain": [
       "[<matplotlib.lines.Line2D at 0x11f0e82f1d0>]"
      ]
     },
     "execution_count": 158,
     "metadata": {},
     "output_type": "execute_result"
    },
    {
     "data": {
      "image/png": "[encoded data removed]",
      "text/plain": [
       "<Figure size 1440x720 with 1 Axes>"
      ]
     },
     "metadata": {
      "needs_background": "light"
     },
     "output_type": "display_data"
    }
   ],
   "source": [
    "fop_calibrated, mpv_calibrated = calibration_curve(y_test, pred_calibrated, n_bins = 10)\n",
    "plt.figure(figsize = (20, 10))\n",
    "plt.plot([0,1], [0,1], linestyle = '--', color = 'black')\n",
    "plt.plot(mpv_calibrated, fop_calibrated, marker = '.', color = 'red')"
   ]
  },
  {
   "cell_type": "code",
   "execution_count": 118,
   "metadata": {},
   "outputs": [
    {
     "data": {
      "text/plain": [
       "['lgb_calibrated.pkl']"
      ]
     },
     "execution_count": 118,
     "metadata": {},
     "output_type": "execute_result"
    }
   ],
   "source": [
    "joblib.dump(lgb_calibrated, 'lgb_calibrated.pkl')"
   ]
  },
  {
   "cell_type": "code",
   "execution_count": 116,
   "metadata": {},
   "outputs": [
    {
     "data": {
      "text/plain": [
       "0.7911727562985269"
      ]
     },
     "execution_count": 116,
     "metadata": {},
     "output_type": "execute_result"
    }
   ],
   "source": [
    "print(roc_auc_score(y_test, pred_calibrated))"
   ]
  },
  {
   "cell_type": "code",
   "execution_count": 134,
   "metadata": {},
   "outputs": [
    {
     "name": "stdout",
     "output_type": "stream",
     "text": [
      "0.9669928571428571\n",
      "0.22730241672109733\n",
      "0.0919175911251981\n"
     ]
    }
   ],
   "source": [
    "lgb_pred2 = pd.Series(pred_calibrated)\n",
    "lgb_pred2 = lgb_pred2.apply(lambda x: 1 if x >= 0.06 else 0)\n",
    "print(accuracy_score(y_test, lgb_pred2))\n",
    "print(recall_score(y_test, lgb_pred2))\n",
    "print(precision_score(y_test, lgb_pred2))"
   ]
  },
  {
   "cell_type": "code",
   "execution_count": 135,
   "metadata": {},
   "outputs": [
    {
     "data": {
      "text/plain": [
       "array([[135031,   3438],\n",
       "       [  1183,    348]], dtype=int64)"
      ]
     },
     "execution_count": 135,
     "metadata": {},
     "output_type": "execute_result"
    }
   ],
   "source": [
    "confusion_matrix(y_test, lgb_pred2)"
   ]
  },
  {
   "cell_type": "code",
   "execution_count": 163,
   "metadata": {},
   "outputs": [
    {
     "data": {
      "text/plain": [
       "0.3268398268398269"
      ]
     },
     "execution_count": 163,
     "metadata": {},
     "output_type": "execute_result"
    }
   ],
   "source": [
    "pred_calibrated.max()"
   ]
  },
  {
   "cell_type": "code",
   "execution_count": 159,
   "metadata": {},
   "outputs": [
    {
     "data": {
      "text/plain": [
       "(array([1.02503e+05, 1.89320e+04, 6.97200e+03, 3.67600e+03, 2.18300e+03,\n",
       "        1.31900e+03, 7.77000e+02, 4.95000e+02, 3.41000e+02, 2.38000e+02,\n",
       "        1.71000e+02, 1.53000e+02, 1.23000e+02, 1.02000e+02, 7.70000e+01,\n",
       "        5.60000e+01, 5.80000e+01, 5.30000e+01, 5.00000e+01, 3.70000e+01,\n",
       "        2.50000e+01, 2.20000e+01, 1.90000e+01, 2.10000e+01, 1.90000e+01,\n",
       "        8.00000e+00, 2.00000e+01, 6.00000e+00, 4.00000e+00, 9.00000e+00]),\n",
       " array([0.        , 0.01089466, 0.02178932, 0.03268398, 0.04357864,\n",
       "        0.0544733 , 0.06536797, 0.07626263, 0.08715729, 0.09805195,\n",
       "        0.10894661, 0.11984127, 0.13073593, 0.14163059, 0.15252525,\n",
       "        0.16341991, 0.17431457, 0.18520924, 0.1961039 , 0.20699856,\n",
       "        0.21789322, 0.22878788, 0.23968254, 0.2505772 , 0.26147186,\n",
       "        0.27236652, 0.28326118, 0.29415584, 0.30505051, 0.31594517,\n",
       "        0.32683983]),\n",
       " <a list of 30 Patch objects>)"
      ]
     },
     "execution_count": 159,
     "metadata": {},
     "output_type": "execute_result"
    },
    {
     "data": {
      "image/png": "[encoded data removed]",
      "text/plain": [
       "<Figure size 1440x720 with 1 Axes>"
      ]
     },
     "metadata": {
      "needs_background": "light"
     },
     "output_type": "display_data"
    }
   ],
   "source": [
    "plt.figure(figsize = (20, 10))\n",
    "plt.hist(pred_calibrated[y_test == 0], bins = 30)"
   ]
  },
  {
   "cell_type": "code",
   "execution_count": 152,
   "metadata": {},
   "outputs": [
    {
     "data": {
      "text/plain": [
       "0.04309347502245069"
      ]
     },
     "execution_count": 152,
     "metadata": {},
     "output_type": "execute_result"
    }
   ],
   "source": [
    "pred_calibrated[y_test == 1].mean()"
   ]
  },
  {
   "cell_type": "code",
   "execution_count": 155,
   "metadata": {},
   "outputs": [
    {
     "data": {
      "text/plain": [
       "(array([478., 263., 159., 139.,  96.,  81.,  71.,  41.,  26.,  26.,  19.,\n",
       "         24.,  18.,   9.,   8.,  14.,   4.,  10.,  12.,   3.,   2.,   3.,\n",
       "          6.,   5.,   4.,   2.,   3.,   0.,   0.,   5.]),\n",
       " array([0.00049339, 0.0113716 , 0.02224982, 0.03312803, 0.04400624,\n",
       "        0.05488446, 0.06576267, 0.07664089, 0.0875191 , 0.09839732,\n",
       "        0.10927553, 0.12015375, 0.13103196, 0.14191018, 0.15278839,\n",
       "        0.16366661, 0.17454482, 0.18542304, 0.19630125, 0.20717947,\n",
       "        0.21805768, 0.22893589, 0.23981411, 0.25069232, 0.26157054,\n",
       "        0.27244875, 0.28332697, 0.29420518, 0.3050834 , 0.31596161,\n",
       "        0.32683983]),\n",
       " <a list of 30 Patch objects>)"
      ]
     },
     "execution_count": 155,
     "metadata": {},
     "output_type": "execute_result"
    },
    {
     "data": {
      "image/png": "[encoded data removed]",
      "text/plain": [
       "<Figure size 1440x720 with 1 Axes>"
      ]
     },
     "metadata": {
      "needs_background": "light"
     },
     "output_type": "display_data"
    }
   ],
   "source": [
    "plt.figure(figsize = (20, 10))\n",
    "plt.hist(pred_calibrated[y_test == 1], bins = 30)"
   ]
  },
  {
   "cell_type": "code",
   "execution_count": 154,
   "metadata": {},
   "outputs": [
    {
     "data": {
      "text/plain": [
       "(array([1.1469e+05, 1.3717e+04, 4.9060e+03, 2.2720e+03, 1.0220e+03,\n",
       "        5.9100e+02, 3.3100e+02, 2.3100e+02, 1.6800e+02, 1.3400e+02,\n",
       "        8.6000e+01, 8.1000e+01, 7.3000e+01, 3.9000e+01, 3.4000e+01,\n",
       "        2.8000e+01, 2.5000e+01, 2.2000e+01, 1.0000e+01, 9.0000e+00]),\n",
       " array([0.        , 0.01634199, 0.03268398, 0.04902597, 0.06536797,\n",
       "        0.08170996, 0.09805195, 0.11439394, 0.13073593, 0.14707792,\n",
       "        0.16341991, 0.1797619 , 0.1961039 , 0.21244589, 0.22878788,\n",
       "        0.24512987, 0.26147186, 0.27781385, 0.29415584, 0.31049784,\n",
       "        0.32683983]),\n",
       " <a list of 20 Patch objects>)"
      ]
     },
     "execution_count": 154,
     "metadata": {},
     "output_type": "execute_result"
    },
    {
     "data": {
      "image/png": "[encoded data removed]",
      "text/plain": [
       "<Figure size 1440x720 with 1 Axes>"
      ]
     },
     "metadata": {
      "needs_background": "light"
     },
     "output_type": "display_data"
    }
   ],
   "source": [
    "plt.figure(figsize = (20, 10))\n",
    "plt.hist(pred_calibrated[y_test == 0], bins = 20)"
   ]
  },
  {
   "cell_type": "code",
   "execution_count": 138,
   "metadata": {},
   "outputs": [
    {
     "data": {
      "text/plain": [
       "0.10504570147918793"
      ]
     },
     "execution_count": 138,
     "metadata": {},
     "output_type": "execute_result"
    }
   ],
   "source": [
    "pred_calibrated[pred_calibrated > 0.06].mean()"
   ]
  },
  {
   "cell_type": "code",
   "execution_count": 132,
   "metadata": {},
   "outputs": [],
   "source": [
    "fsc = list()\n",
    "best_prob = 0\n",
    "max_f = 0\n",
    "prob = 0\n",
    "while prob < 0.3:\n",
    "    prob += 0.01\n",
    "    lgb_pred2 = pd.Series(pred_calibrated)\n",
    "    lgb_pred2 = lgb_pred2.apply(lambda x: 1 if x >= prob else 0)\n",
    "    fsc.append(f1_score(y_test, lgb_pred2))\n",
    "    if f1_score(y_test, lgb_pred2) > max_f:\n",
    "        best_prob = prob\n",
    "        max_f = f1_score(y_test, lgb_pred2) "
   ]
  },
  {
   "cell_type": "code",
   "execution_count": 149,
   "metadata": {},
   "outputs": [
    {
     "name": "stdout",
     "output_type": "stream",
     "text": [
      "0.060000000000000005\n"
     ]
    }
   ],
   "source": [
    "print(best_prob)"
   ]
  },
  {
   "cell_type": "code",
   "execution_count": 161,
   "metadata": {},
   "outputs": [],
   "source": [
    "imp = pd.Series(lgb_model.feature_importances_, index = train_columns)"
   ]
  },
  {
   "cell_type": "code",
   "execution_count": 165,
   "metadata": {},
   "outputs": [],
   "source": [
    "imp.sort_values(ascending = False).to_csv('importances.csv', index = True, sep = ';')"
   ]
  }
 ],
 "metadata": {
  "kernelspec": {
   "display_name": "Python 3",
   "language": "python",
   "name": "python3"
  },
  "language_info": {
   "codemirror_mode": {
    "name": "ipython",
    "version": 3
   },
   "file_extension": ".py",
   "mimetype": "text/x-python",
   "name": "python",
   "nbconvert_exporter": "python",
   "pygments_lexer": "ipython3",
   "version": "3.6.7"
  }
 },
 "nbformat": 4,
 "nbformat_minor": 2
}
