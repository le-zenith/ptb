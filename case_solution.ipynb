{
 "cells": [
  {
   "cell_type": "code",
   "execution_count": 1,
   "metadata": {},
   "outputs": [],
   "source": [
    "import numpy as np\n",
    "import pandas as pd"
   ]
  },
  {
   "cell_type": "code",
   "execution_count": 2,
   "metadata": {},
   "outputs": [],
   "source": [
    "df_train = pd.read_csv('CUP_IT_train_data.csv', sep=',', skiprows=133)"
   ]
  },
  {
   "cell_type": "code",
   "execution_count": 3,
   "metadata": {},
   "outputs": [
    {
     "data": {
      "text/html": [
       "<div>\n",
       "<style scoped>\n",
       "    .dataframe tbody tr th:only-of-type {\n",
       "        vertical-align: middle;\n",
       "    }\n",
       "\n",
       "    .dataframe tbody tr th {\n",
       "        vertical-align: top;\n",
       "    }\n",
       "\n",
       "    .dataframe thead th {\n",
       "        text-align: right;\n",
       "    }\n",
       "</style>\n",
       "<table border=\"1\" class=\"dataframe\">\n",
       "  <thead>\n",
       "    <tr style=\"text-align: right;\">\n",
       "      <th></th>\n",
       "      <th>cif_id</th>\n",
       "      <th>dlk_cob_date</th>\n",
       "      <th>gi_smooth_3m</th>\n",
       "      <th>big_city</th>\n",
       "      <th>cu_gender</th>\n",
       "      <th>cu_education_level</th>\n",
       "      <th>cu_empl_area</th>\n",
       "      <th>cu_empl_level</th>\n",
       "      <th>payroll_f</th>\n",
       "      <th>cur_quantity_pl</th>\n",
       "      <th>...</th>\n",
       "      <th>active</th>\n",
       "      <th>standalone_dc_f</th>\n",
       "      <th>standalone_payroll_dc_f</th>\n",
       "      <th>standalone_nonpayroll_dc_f</th>\n",
       "      <th>salary</th>\n",
       "      <th>cu_age</th>\n",
       "      <th>cu_mob</th>\n",
       "      <th>cu_empl_cur_dur_m</th>\n",
       "      <th>is_married</th>\n",
       "      <th>cu_eduaction_level</th>\n",
       "    </tr>\n",
       "  </thead>\n",
       "  <tbody>\n",
       "    <tr>\n",
       "      <th>0</th>\n",
       "      <td>335992</td>\n",
       "      <td>2018-06-30</td>\n",
       "      <td>17.957530</td>\n",
       "      <td>MLN</td>\n",
       "      <td>0</td>\n",
       "      <td>02. Среднее профессиональное</td>\n",
       "      <td>ТОРГОВЛЯ</td>\n",
       "      <td>SUPPORT STAFF</td>\n",
       "      <td>0</td>\n",
       "      <td>1</td>\n",
       "      <td>...</td>\n",
       "      <td>1</td>\n",
       "      <td>0</td>\n",
       "      <td>0</td>\n",
       "      <td>0</td>\n",
       "      <td>1192.8</td>\n",
       "      <td>29.0</td>\n",
       "      <td>144</td>\n",
       "      <td>46.0</td>\n",
       "      <td>1</td>\n",
       "      <td>2</td>\n",
       "    </tr>\n",
       "    <tr>\n",
       "      <th>1</th>\n",
       "      <td>335992</td>\n",
       "      <td>2018-04-30</td>\n",
       "      <td>27.720918</td>\n",
       "      <td>MLN</td>\n",
       "      <td>0</td>\n",
       "      <td>02. Среднее профессиональное</td>\n",
       "      <td>ТОРГОВЛЯ</td>\n",
       "      <td>SUPPORT STAFF</td>\n",
       "      <td>0</td>\n",
       "      <td>1</td>\n",
       "      <td>...</td>\n",
       "      <td>1</td>\n",
       "      <td>0</td>\n",
       "      <td>0</td>\n",
       "      <td>0</td>\n",
       "      <td>1192.8</td>\n",
       "      <td>29.0</td>\n",
       "      <td>142</td>\n",
       "      <td>44.0</td>\n",
       "      <td>1</td>\n",
       "      <td>2</td>\n",
       "    </tr>\n",
       "    <tr>\n",
       "      <th>2</th>\n",
       "      <td>335992</td>\n",
       "      <td>2018-05-31</td>\n",
       "      <td>21.949626</td>\n",
       "      <td>MLN</td>\n",
       "      <td>0</td>\n",
       "      <td>02. Среднее профессиональное</td>\n",
       "      <td>ТОРГОВЛЯ</td>\n",
       "      <td>SUPPORT STAFF</td>\n",
       "      <td>0</td>\n",
       "      <td>1</td>\n",
       "      <td>...</td>\n",
       "      <td>1</td>\n",
       "      <td>0</td>\n",
       "      <td>0</td>\n",
       "      <td>0</td>\n",
       "      <td>1192.8</td>\n",
       "      <td>29.0</td>\n",
       "      <td>143</td>\n",
       "      <td>45.0</td>\n",
       "      <td>1</td>\n",
       "      <td>2</td>\n",
       "    </tr>\n",
       "    <tr>\n",
       "      <th>3</th>\n",
       "      <td>335992</td>\n",
       "      <td>2018-08-31</td>\n",
       "      <td>14.855459</td>\n",
       "      <td>MLN</td>\n",
       "      <td>0</td>\n",
       "      <td>02. Среднее профессиональное</td>\n",
       "      <td>ТОРГОВЛЯ</td>\n",
       "      <td>SUPPORT STAFF</td>\n",
       "      <td>0</td>\n",
       "      <td>1</td>\n",
       "      <td>...</td>\n",
       "      <td>1</td>\n",
       "      <td>0</td>\n",
       "      <td>0</td>\n",
       "      <td>0</td>\n",
       "      <td>1192.8</td>\n",
       "      <td>29.0</td>\n",
       "      <td>146</td>\n",
       "      <td>48.0</td>\n",
       "      <td>1</td>\n",
       "      <td>2</td>\n",
       "    </tr>\n",
       "    <tr>\n",
       "      <th>4</th>\n",
       "      <td>335992</td>\n",
       "      <td>2018-03-31</td>\n",
       "      <td>27.917161</td>\n",
       "      <td>MLN</td>\n",
       "      <td>0</td>\n",
       "      <td>02. Среднее профессиональное</td>\n",
       "      <td>ТОРГОВЛЯ</td>\n",
       "      <td>SUPPORT STAFF</td>\n",
       "      <td>0</td>\n",
       "      <td>1</td>\n",
       "      <td>...</td>\n",
       "      <td>1</td>\n",
       "      <td>0</td>\n",
       "      <td>0</td>\n",
       "      <td>0</td>\n",
       "      <td>1192.8</td>\n",
       "      <td>29.0</td>\n",
       "      <td>141</td>\n",
       "      <td>43.0</td>\n",
       "      <td>1</td>\n",
       "      <td>2</td>\n",
       "    </tr>\n",
       "  </tbody>\n",
       "</table>\n",
       "<p>5 rows × 46 columns</p>\n",
       "</div>"
      ],
      "text/plain": [
       "   cif_id dlk_cob_date  gi_smooth_3m big_city  cu_gender  \\\n",
       "0  335992   2018-06-30     17.957530      MLN          0   \n",
       "1  335992   2018-04-30     27.720918      MLN          0   \n",
       "2  335992   2018-05-31     21.949626      MLN          0   \n",
       "3  335992   2018-08-31     14.855459      MLN          0   \n",
       "4  335992   2018-03-31     27.917161      MLN          0   \n",
       "\n",
       "             cu_education_level cu_empl_area  cu_empl_level  payroll_f  \\\n",
       "0  02. Среднее профессиональное     ТОРГОВЛЯ  SUPPORT STAFF          0   \n",
       "1  02. Среднее профессиональное     ТОРГОВЛЯ  SUPPORT STAFF          0   \n",
       "2  02. Среднее профессиональное     ТОРГОВЛЯ  SUPPORT STAFF          0   \n",
       "3  02. Среднее профессиональное     ТОРГОВЛЯ  SUPPORT STAFF          0   \n",
       "4  02. Среднее профессиональное     ТОРГОВЛЯ  SUPPORT STAFF          0   \n",
       "\n",
       "   cur_quantity_pl  ...  active  standalone_dc_f  standalone_payroll_dc_f  \\\n",
       "0                1  ...       1                0                        0   \n",
       "1                1  ...       1                0                        0   \n",
       "2                1  ...       1                0                        0   \n",
       "3                1  ...       1                0                        0   \n",
       "4                1  ...       1                0                        0   \n",
       "\n",
       "   standalone_nonpayroll_dc_f  salary  cu_age  cu_mob  cu_empl_cur_dur_m  \\\n",
       "0                           0  1192.8    29.0     144               46.0   \n",
       "1                           0  1192.8    29.0     142               44.0   \n",
       "2                           0  1192.8    29.0     143               45.0   \n",
       "3                           0  1192.8    29.0     146               48.0   \n",
       "4                           0  1192.8    29.0     141               43.0   \n",
       "\n",
       "   is_married  cu_eduaction_level  \n",
       "0           1                   2  \n",
       "1           1                   2  \n",
       "2           1                   2  \n",
       "3           1                   2  \n",
       "4           1                   2  \n",
       "\n",
       "[5 rows x 46 columns]"
      ]
     },
     "execution_count": 3,
     "metadata": {},
     "output_type": "execute_result"
    }
   ],
   "source": [
    "df_train.head()"
   ]
  },
  {
   "cell_type": "code",
   "execution_count": 4,
   "metadata": {},
   "outputs": [
    {
     "data": {
      "text/plain": [
       "396576"
      ]
     },
     "execution_count": 4,
     "metadata": {},
     "output_type": "execute_result"
    }
   ],
   "source": [
    "df_train['cif_id'].nunique()"
   ]
  },
  {
   "cell_type": "code",
   "execution_count": 5,
   "metadata": {},
   "outputs": [
    {
     "data": {
      "text/plain": [
       "(4161783, 46)"
      ]
     },
     "execution_count": 5,
     "metadata": {},
     "output_type": "execute_result"
    }
   ],
   "source": [
    "df_train.shape"
   ]
  },
  {
   "cell_type": "code",
   "execution_count": 6,
   "metadata": {},
   "outputs": [],
   "source": [
    "df_train['dlk_cob_date'] = pd.to_datetime(df_train['dlk_cob_date'], yearfirst=True)"
   ]
  },
  {
   "cell_type": "code",
   "execution_count": 7,
   "metadata": {},
   "outputs": [],
   "source": [
    "df_train.sort_values(['cif_id', 'dlk_cob_date'], inplace=True)"
   ]
  },
  {
   "cell_type": "code",
   "execution_count": 8,
   "metadata": {},
   "outputs": [],
   "source": [
    "grouped = df_train.groupby(by='cif_id').count()"
   ]
  },
  {
   "cell_type": "code",
   "execution_count": 9,
   "metadata": {},
   "outputs": [],
   "source": [
    "only_12 = grouped[grouped['dlk_cob_date'] != 12]"
   ]
  },
  {
   "cell_type": "code",
   "execution_count": 10,
   "metadata": {},
   "outputs": [],
   "source": [
    "unstable_users = only_12.index"
   ]
  },
  {
   "cell_type": "code",
   "execution_count": 11,
   "metadata": {},
   "outputs": [
    {
     "data": {
      "text/plain": [
       "Int64Index([  1014,   1020,   1021,   1030,   1031,   1035,   1038,   1048,\n",
       "              1055,   1060,\n",
       "            ...\n",
       "            511497, 511500, 511501, 511506, 511510, 511514, 511517, 511520,\n",
       "            511526, 511535],\n",
       "           dtype='int64', name='cif_id', length=96885)"
      ]
     },
     "execution_count": 11,
     "metadata": {},
     "output_type": "execute_result"
    }
   ],
   "source": [
    "unstable_users"
   ]
  },
  {
   "cell_type": "code",
   "execution_count": 12,
   "metadata": {},
   "outputs": [
    {
     "data": {
      "text/plain": [
       "count    396576.000000\n",
       "mean         10.494289\n",
       "std           3.076219\n",
       "min           1.000000\n",
       "25%          12.000000\n",
       "50%          12.000000\n",
       "75%          12.000000\n",
       "max          12.000000\n",
       "Name: dlk_cob_date, dtype: float64"
      ]
     },
     "execution_count": 12,
     "metadata": {},
     "output_type": "execute_result"
    }
   ],
   "source": [
    "grouped['dlk_cob_date'].describe()"
   ]
  },
  {
   "cell_type": "code",
   "execution_count": 13,
   "metadata": {},
   "outputs": [
    {
     "data": {
      "text/plain": [
       "array(['MLN', 'OTH', 'MSK', 'SPB'], dtype=object)"
      ]
     },
     "execution_count": 13,
     "metadata": {},
     "output_type": "execute_result"
    }
   ],
   "source": [
    "df_train['big_city'].unique()"
   ]
  },
  {
   "cell_type": "code",
   "execution_count": 16,
   "metadata": {},
   "outputs": [],
   "source": [
    "cat_columns = df_train.dtypes[df_train.dtypes == 'object']"
   ]
  },
  {
   "cell_type": "code",
   "execution_count": 18,
   "metadata": {},
   "outputs": [
    {
     "data": {
      "text/plain": [
       "cif_id                                 int64\n",
       "dlk_cob_date                  datetime64[ns]\n",
       "gi_smooth_3m                         float64\n",
       "big_city                              object\n",
       "cu_gender                              int64\n",
       "cu_education_level                    object\n",
       "cu_empl_area                          object\n",
       "cu_empl_level                         object\n",
       "payroll_f                              int64\n",
       "cur_quantity_pl                        int64\n",
       "cur_quantity_mort                      int64\n",
       "cur_quantity_cc                        int64\n",
       "cur_quantity_deposits                  int64\n",
       "cur_quantity_dc                        int64\n",
       "cur_quantity_accounts                  int64\n",
       "cur_quantity_saccounts                 int64\n",
       "cur_quantity_mf                        int64\n",
       "cc_balance                           float64\n",
       "cl_balance                           float64\n",
       "ml_balance                           float64\n",
       "pl_balance                           float64\n",
       "td_volume                            float64\n",
       "ca_volume                            float64\n",
       "sa_volume                            float64\n",
       "mf_volume                            float64\n",
       "dc_cash_spend_v                      float64\n",
       "dc_cash_spend_c                        int64\n",
       "cc_cash_spend_v                      float64\n",
       "cc_cash_spend_c                        int64\n",
       "dc_pos_spend_v                       float64\n",
       "dc_pos_spend_c                         int64\n",
       "cc_pos_spend_v                       float64\n",
       "cc_pos_spend_c                         int64\n",
       "ca_f                                   int64\n",
       "rc_session_qnt_cur_mon                 int64\n",
       "cur_qnt_sms                          float64\n",
       "active                                 int64\n",
       "standalone_dc_f                        int64\n",
       "standalone_payroll_dc_f                int64\n",
       "standalone_nonpayroll_dc_f             int64\n",
       "salary                               float64\n",
       "cu_age                               float64\n",
       "cu_mob                                 int64\n",
       "cu_empl_cur_dur_m                    float64\n",
       "is_married                             int64\n",
       "cu_eduaction_level                     int64\n",
       "dtype: object"
      ]
     },
     "execution_count": 18,
     "metadata": {},
     "output_type": "execute_result"
    }
   ],
   "source": [
    "df_train.dtypes"
   ]
  },
  {
   "cell_type": "code",
   "execution_count": 19,
   "metadata": {},
   "outputs": [
    {
     "data": {
      "text/plain": [
       "array([   2,    3,    1, -100,    4], dtype=int64)"
      ]
     },
     "execution_count": 19,
     "metadata": {},
     "output_type": "execute_result"
    }
   ],
   "source": [
    "df_train['cu_eduaction_level'].unique()"
   ]
  },
  {
   "cell_type": "code",
   "execution_count": 20,
   "metadata": {},
   "outputs": [],
   "source": [
    "target = df_train[df_train['dlk_cob_date'] >= '2018-07-01'][['cif_id', 'gi_smooth_3m']].groupby('cif_id').sum()"
   ]
  },
  {
   "cell_type": "code",
   "execution_count": 26,
   "metadata": {},
   "outputs": [],
   "source": [
    "cu_columns = []\n",
    "for i in df_train.columns:\n",
    "    if i.find('cu_') != -1:\n",
    "        cu_columns.append(i)"
   ]
  },
  {
   "cell_type": "code",
   "execution_count": 21,
   "metadata": {},
   "outputs": [],
   "source": [
    "df_train = df_train[df_train['dlk_cob_date'] < '2018-07-01']"
   ]
  },
  {
   "cell_type": "code",
   "execution_count": 22,
   "metadata": {},
   "outputs": [],
   "source": [
    "df_train = pd.merge(df_train, target, how='left', left_on='cif_id', right_index=True)"
   ]
  },
  {
   "cell_type": "code",
   "execution_count": 23,
   "metadata": {},
   "outputs": [
    {
     "data": {
      "text/html": [
       "<div>\n",
       "<style scoped>\n",
       "    .dataframe tbody tr th:only-of-type {\n",
       "        vertical-align: middle;\n",
       "    }\n",
       "\n",
       "    .dataframe tbody tr th {\n",
       "        vertical-align: top;\n",
       "    }\n",
       "\n",
       "    .dataframe thead th {\n",
       "        text-align: right;\n",
       "    }\n",
       "</style>\n",
       "<table border=\"1\" class=\"dataframe\">\n",
       "  <thead>\n",
       "    <tr style=\"text-align: right;\">\n",
       "      <th></th>\n",
       "      <th>cif_id</th>\n",
       "      <th>dlk_cob_date</th>\n",
       "      <th>gi_smooth_3m_x</th>\n",
       "      <th>big_city</th>\n",
       "      <th>cu_gender</th>\n",
       "      <th>cu_education_level</th>\n",
       "      <th>cu_empl_area</th>\n",
       "      <th>cu_empl_level</th>\n",
       "      <th>payroll_f</th>\n",
       "      <th>cur_quantity_pl</th>\n",
       "      <th>...</th>\n",
       "      <th>standalone_dc_f</th>\n",
       "      <th>standalone_payroll_dc_f</th>\n",
       "      <th>standalone_nonpayroll_dc_f</th>\n",
       "      <th>salary</th>\n",
       "      <th>cu_age</th>\n",
       "      <th>cu_mob</th>\n",
       "      <th>cu_empl_cur_dur_m</th>\n",
       "      <th>is_married</th>\n",
       "      <th>cu_eduaction_level</th>\n",
       "      <th>gi_smooth_3m_y</th>\n",
       "    </tr>\n",
       "  </thead>\n",
       "  <tbody>\n",
       "    <tr>\n",
       "      <th>1342694</th>\n",
       "      <td>1001</td>\n",
       "      <td>2018-01-31</td>\n",
       "      <td>70.994186</td>\n",
       "      <td>MLN</td>\n",
       "      <td>1</td>\n",
       "      <td>02. Среднее профессиональное</td>\n",
       "      <td>Строительство, недвижимость</td>\n",
       "      <td>SUPPORT STAFF</td>\n",
       "      <td>0</td>\n",
       "      <td>1</td>\n",
       "      <td>...</td>\n",
       "      <td>0</td>\n",
       "      <td>0</td>\n",
       "      <td>0</td>\n",
       "      <td>1051.2</td>\n",
       "      <td>56.0</td>\n",
       "      <td>121</td>\n",
       "      <td>123.0</td>\n",
       "      <td>1</td>\n",
       "      <td>2</td>\n",
       "      <td>322.283363</td>\n",
       "    </tr>\n",
       "    <tr>\n",
       "      <th>1342693</th>\n",
       "      <td>1001</td>\n",
       "      <td>2018-02-28</td>\n",
       "      <td>-6.005108</td>\n",
       "      <td>MLN</td>\n",
       "      <td>1</td>\n",
       "      <td>02. Среднее профессиональное</td>\n",
       "      <td>Строительство, недвижимость</td>\n",
       "      <td>SUPPORT STAFF</td>\n",
       "      <td>0</td>\n",
       "      <td>1</td>\n",
       "      <td>...</td>\n",
       "      <td>0</td>\n",
       "      <td>0</td>\n",
       "      <td>0</td>\n",
       "      <td>1051.2</td>\n",
       "      <td>56.0</td>\n",
       "      <td>122</td>\n",
       "      <td>124.0</td>\n",
       "      <td>1</td>\n",
       "      <td>2</td>\n",
       "      <td>322.283363</td>\n",
       "    </tr>\n",
       "    <tr>\n",
       "      <th>1342691</th>\n",
       "      <td>1001</td>\n",
       "      <td>2018-03-31</td>\n",
       "      <td>114.989605</td>\n",
       "      <td>MLN</td>\n",
       "      <td>1</td>\n",
       "      <td>02. Среднее профессиональное</td>\n",
       "      <td>Строительство, недвижимость</td>\n",
       "      <td>SUPPORT STAFF</td>\n",
       "      <td>0</td>\n",
       "      <td>0</td>\n",
       "      <td>...</td>\n",
       "      <td>0</td>\n",
       "      <td>0</td>\n",
       "      <td>0</td>\n",
       "      <td>1051.2</td>\n",
       "      <td>56.0</td>\n",
       "      <td>123</td>\n",
       "      <td>125.0</td>\n",
       "      <td>1</td>\n",
       "      <td>2</td>\n",
       "      <td>322.283363</td>\n",
       "    </tr>\n",
       "    <tr>\n",
       "      <th>1342690</th>\n",
       "      <td>1001</td>\n",
       "      <td>2018-04-30</td>\n",
       "      <td>147.408528</td>\n",
       "      <td>MLN</td>\n",
       "      <td>1</td>\n",
       "      <td>02. Среднее профессиональное</td>\n",
       "      <td>Строительство, недвижимость</td>\n",
       "      <td>SUPPORT STAFF</td>\n",
       "      <td>0</td>\n",
       "      <td>0</td>\n",
       "      <td>...</td>\n",
       "      <td>0</td>\n",
       "      <td>0</td>\n",
       "      <td>0</td>\n",
       "      <td>1051.2</td>\n",
       "      <td>56.0</td>\n",
       "      <td>124</td>\n",
       "      <td>126.0</td>\n",
       "      <td>1</td>\n",
       "      <td>2</td>\n",
       "      <td>322.283363</td>\n",
       "    </tr>\n",
       "    <tr>\n",
       "      <th>1342692</th>\n",
       "      <td>1001</td>\n",
       "      <td>2018-05-31</td>\n",
       "      <td>185.987934</td>\n",
       "      <td>MLN</td>\n",
       "      <td>1</td>\n",
       "      <td>02. Среднее профессиональное</td>\n",
       "      <td>Строительство, недвижимость</td>\n",
       "      <td>SUPPORT STAFF</td>\n",
       "      <td>0</td>\n",
       "      <td>0</td>\n",
       "      <td>...</td>\n",
       "      <td>0</td>\n",
       "      <td>0</td>\n",
       "      <td>0</td>\n",
       "      <td>1051.2</td>\n",
       "      <td>56.0</td>\n",
       "      <td>125</td>\n",
       "      <td>127.0</td>\n",
       "      <td>1</td>\n",
       "      <td>2</td>\n",
       "      <td>322.283363</td>\n",
       "    </tr>\n",
       "  </tbody>\n",
       "</table>\n",
       "<p>5 rows × 47 columns</p>\n",
       "</div>"
      ],
      "text/plain": [
       "         cif_id dlk_cob_date  gi_smooth_3m_x big_city  cu_gender  \\\n",
       "1342694    1001   2018-01-31       70.994186      MLN          1   \n",
       "1342693    1001   2018-02-28       -6.005108      MLN          1   \n",
       "1342691    1001   2018-03-31      114.989605      MLN          1   \n",
       "1342690    1001   2018-04-30      147.408528      MLN          1   \n",
       "1342692    1001   2018-05-31      185.987934      MLN          1   \n",
       "\n",
       "                   cu_education_level                 cu_empl_area  \\\n",
       "1342694  02. Среднее профессиональное  Строительство, недвижимость   \n",
       "1342693  02. Среднее профессиональное  Строительство, недвижимость   \n",
       "1342691  02. Среднее профессиональное  Строительство, недвижимость   \n",
       "1342690  02. Среднее профессиональное  Строительство, недвижимость   \n",
       "1342692  02. Среднее профессиональное  Строительство, недвижимость   \n",
       "\n",
       "         cu_empl_level  payroll_f  cur_quantity_pl  ...  standalone_dc_f  \\\n",
       "1342694  SUPPORT STAFF          0                1  ...                0   \n",
       "1342693  SUPPORT STAFF          0                1  ...                0   \n",
       "1342691  SUPPORT STAFF          0                0  ...                0   \n",
       "1342690  SUPPORT STAFF          0                0  ...                0   \n",
       "1342692  SUPPORT STAFF          0                0  ...                0   \n",
       "\n",
       "         standalone_payroll_dc_f  standalone_nonpayroll_dc_f  salary  cu_age  \\\n",
       "1342694                        0                           0  1051.2    56.0   \n",
       "1342693                        0                           0  1051.2    56.0   \n",
       "1342691                        0                           0  1051.2    56.0   \n",
       "1342690                        0                           0  1051.2    56.0   \n",
       "1342692                        0                           0  1051.2    56.0   \n",
       "\n",
       "         cu_mob  cu_empl_cur_dur_m  is_married  cu_eduaction_level  \\\n",
       "1342694     121              123.0           1                   2   \n",
       "1342693     122              124.0           1                   2   \n",
       "1342691     123              125.0           1                   2   \n",
       "1342690     124              126.0           1                   2   \n",
       "1342692     125              127.0           1                   2   \n",
       "\n",
       "         gi_smooth_3m_y  \n",
       "1342694      322.283363  \n",
       "1342693      322.283363  \n",
       "1342691      322.283363  \n",
       "1342690      322.283363  \n",
       "1342692      322.283363  \n",
       "\n",
       "[5 rows x 47 columns]"
      ]
     },
     "execution_count": 23,
     "metadata": {},
     "output_type": "execute_result"
    }
   ],
   "source": [
    "df_train.head()"
   ]
  },
  {
   "cell_type": "code",
   "execution_count": 37,
   "metadata": {},
   "outputs": [
    {
     "data": {
      "text/plain": [
       "array(['02. Среднее профессиональное', '03. Высшее', '01. Среднее', nan,\n",
       "       '04. Второе высшее, ученая степень'], dtype=object)"
      ]
     },
     "execution_count": 37,
     "metadata": {},
     "output_type": "execute_result"
    }
   ],
   "source": [
    "df_train['cu_education_level'].unique()"
   ]
  },
  {
   "cell_type": "code",
   "execution_count": 39,
   "metadata": {},
   "outputs": [
    {
     "data": {
      "text/plain": [
       "array(['SUPPORT STAFF', 'BLUE COLLAR STAFF', '03', 'TRADE REPRESENTATIVE',\n",
       "       'QUALIFIED STAFF', nan, 'MIDDLE MANAGEMENT', 'SALES MANAGER', '01',\n",
       "       'SENIOR MANAGEMENT', 'Self-employed', '02', 'INSURANCE AGENT',\n",
       "       'Other', '06', 'SELF-EMPLOYED', 'OTHER', '04', '05',\n",
       "       'начальник отдела продаж', 'АО ТПК', 'начальник отдела', '-',\n",
       "       'пРОДАВЕЦ-КОНСУЛЬТАНТ', 'ассистент', 'Other - учащаяся',\n",
       "       'Директор'], dtype=object)"
      ]
     },
     "execution_count": 39,
     "metadata": {},
     "output_type": "execute_result"
    }
   ],
   "source": [
    "df_train['cu_empl_level'].unique()"
   ]
  },
  {
   "cell_type": "code",
   "execution_count": 115,
   "metadata": {},
   "outputs": [],
   "source": [
    "def MAPE(y_true, y_pred):\n",
    "    error = np.abs((y_true - y_pred) / (y_true + 1))\n",
    "    return np.mean(error) * 100"
   ]
  },
  {
   "cell_type": "code",
   "execution_count": 28,
   "metadata": {},
   "outputs": [],
   "source": [
    "df = df_train.drop(['cu_education_level', 'cu_empl_area', 'cu_empl_level',\n",
    "              'cu_empl_cur_dur_m'], axis=1)"
   ]
  },
  {
   "cell_type": "code",
   "execution_count": 29,
   "metadata": {},
   "outputs": [
    {
     "data": {
      "text/html": [
       "<div>\n",
       "<style scoped>\n",
       "    .dataframe tbody tr th:only-of-type {\n",
       "        vertical-align: middle;\n",
       "    }\n",
       "\n",
       "    .dataframe tbody tr th {\n",
       "        vertical-align: top;\n",
       "    }\n",
       "\n",
       "    .dataframe thead th {\n",
       "        text-align: right;\n",
       "    }\n",
       "</style>\n",
       "<table border=\"1\" class=\"dataframe\">\n",
       "  <thead>\n",
       "    <tr style=\"text-align: right;\">\n",
       "      <th></th>\n",
       "      <th>cif_id</th>\n",
       "      <th>dlk_cob_date</th>\n",
       "      <th>gi_smooth_3m_x</th>\n",
       "      <th>big_city</th>\n",
       "      <th>cu_gender</th>\n",
       "      <th>payroll_f</th>\n",
       "      <th>cur_quantity_pl</th>\n",
       "      <th>cur_quantity_mort</th>\n",
       "      <th>cur_quantity_cc</th>\n",
       "      <th>cur_quantity_deposits</th>\n",
       "      <th>...</th>\n",
       "      <th>active</th>\n",
       "      <th>standalone_dc_f</th>\n",
       "      <th>standalone_payroll_dc_f</th>\n",
       "      <th>standalone_nonpayroll_dc_f</th>\n",
       "      <th>salary</th>\n",
       "      <th>cu_age</th>\n",
       "      <th>cu_mob</th>\n",
       "      <th>is_married</th>\n",
       "      <th>cu_eduaction_level</th>\n",
       "      <th>gi_smooth_3m_y</th>\n",
       "    </tr>\n",
       "  </thead>\n",
       "  <tbody>\n",
       "    <tr>\n",
       "      <th>1342694</th>\n",
       "      <td>1001</td>\n",
       "      <td>2018-01-31</td>\n",
       "      <td>70.994186</td>\n",
       "      <td>MLN</td>\n",
       "      <td>1</td>\n",
       "      <td>0</td>\n",
       "      <td>1</td>\n",
       "      <td>0</td>\n",
       "      <td>1</td>\n",
       "      <td>0</td>\n",
       "      <td>...</td>\n",
       "      <td>1</td>\n",
       "      <td>0</td>\n",
       "      <td>0</td>\n",
       "      <td>0</td>\n",
       "      <td>1051.2</td>\n",
       "      <td>56.0</td>\n",
       "      <td>121</td>\n",
       "      <td>1</td>\n",
       "      <td>2</td>\n",
       "      <td>322.283363</td>\n",
       "    </tr>\n",
       "    <tr>\n",
       "      <th>1342693</th>\n",
       "      <td>1001</td>\n",
       "      <td>2018-02-28</td>\n",
       "      <td>-6.005108</td>\n",
       "      <td>MLN</td>\n",
       "      <td>1</td>\n",
       "      <td>0</td>\n",
       "      <td>1</td>\n",
       "      <td>0</td>\n",
       "      <td>1</td>\n",
       "      <td>0</td>\n",
       "      <td>...</td>\n",
       "      <td>1</td>\n",
       "      <td>0</td>\n",
       "      <td>0</td>\n",
       "      <td>0</td>\n",
       "      <td>1051.2</td>\n",
       "      <td>56.0</td>\n",
       "      <td>122</td>\n",
       "      <td>1</td>\n",
       "      <td>2</td>\n",
       "      <td>322.283363</td>\n",
       "    </tr>\n",
       "    <tr>\n",
       "      <th>1342691</th>\n",
       "      <td>1001</td>\n",
       "      <td>2018-03-31</td>\n",
       "      <td>114.989605</td>\n",
       "      <td>MLN</td>\n",
       "      <td>1</td>\n",
       "      <td>0</td>\n",
       "      <td>0</td>\n",
       "      <td>0</td>\n",
       "      <td>1</td>\n",
       "      <td>0</td>\n",
       "      <td>...</td>\n",
       "      <td>1</td>\n",
       "      <td>0</td>\n",
       "      <td>0</td>\n",
       "      <td>0</td>\n",
       "      <td>1051.2</td>\n",
       "      <td>56.0</td>\n",
       "      <td>123</td>\n",
       "      <td>1</td>\n",
       "      <td>2</td>\n",
       "      <td>322.283363</td>\n",
       "    </tr>\n",
       "    <tr>\n",
       "      <th>1342690</th>\n",
       "      <td>1001</td>\n",
       "      <td>2018-04-30</td>\n",
       "      <td>147.408528</td>\n",
       "      <td>MLN</td>\n",
       "      <td>1</td>\n",
       "      <td>0</td>\n",
       "      <td>0</td>\n",
       "      <td>0</td>\n",
       "      <td>1</td>\n",
       "      <td>0</td>\n",
       "      <td>...</td>\n",
       "      <td>1</td>\n",
       "      <td>0</td>\n",
       "      <td>0</td>\n",
       "      <td>0</td>\n",
       "      <td>1051.2</td>\n",
       "      <td>56.0</td>\n",
       "      <td>124</td>\n",
       "      <td>1</td>\n",
       "      <td>2</td>\n",
       "      <td>322.283363</td>\n",
       "    </tr>\n",
       "    <tr>\n",
       "      <th>1342692</th>\n",
       "      <td>1001</td>\n",
       "      <td>2018-05-31</td>\n",
       "      <td>185.987934</td>\n",
       "      <td>MLN</td>\n",
       "      <td>1</td>\n",
       "      <td>0</td>\n",
       "      <td>0</td>\n",
       "      <td>0</td>\n",
       "      <td>1</td>\n",
       "      <td>0</td>\n",
       "      <td>...</td>\n",
       "      <td>1</td>\n",
       "      <td>0</td>\n",
       "      <td>0</td>\n",
       "      <td>0</td>\n",
       "      <td>1051.2</td>\n",
       "      <td>56.0</td>\n",
       "      <td>125</td>\n",
       "      <td>1</td>\n",
       "      <td>2</td>\n",
       "      <td>322.283363</td>\n",
       "    </tr>\n",
       "  </tbody>\n",
       "</table>\n",
       "<p>5 rows × 43 columns</p>\n",
       "</div>"
      ],
      "text/plain": [
       "         cif_id dlk_cob_date  gi_smooth_3m_x big_city  cu_gender  payroll_f  \\\n",
       "1342694    1001   2018-01-31       70.994186      MLN          1          0   \n",
       "1342693    1001   2018-02-28       -6.005108      MLN          1          0   \n",
       "1342691    1001   2018-03-31      114.989605      MLN          1          0   \n",
       "1342690    1001   2018-04-30      147.408528      MLN          1          0   \n",
       "1342692    1001   2018-05-31      185.987934      MLN          1          0   \n",
       "\n",
       "         cur_quantity_pl  cur_quantity_mort  cur_quantity_cc  \\\n",
       "1342694                1                  0                1   \n",
       "1342693                1                  0                1   \n",
       "1342691                0                  0                1   \n",
       "1342690                0                  0                1   \n",
       "1342692                0                  0                1   \n",
       "\n",
       "         cur_quantity_deposits  ...  active  standalone_dc_f  \\\n",
       "1342694                      0  ...       1                0   \n",
       "1342693                      0  ...       1                0   \n",
       "1342691                      0  ...       1                0   \n",
       "1342690                      0  ...       1                0   \n",
       "1342692                      0  ...       1                0   \n",
       "\n",
       "         standalone_payroll_dc_f  standalone_nonpayroll_dc_f  salary  cu_age  \\\n",
       "1342694                        0                           0  1051.2    56.0   \n",
       "1342693                        0                           0  1051.2    56.0   \n",
       "1342691                        0                           0  1051.2    56.0   \n",
       "1342690                        0                           0  1051.2    56.0   \n",
       "1342692                        0                           0  1051.2    56.0   \n",
       "\n",
       "         cu_mob  is_married  cu_eduaction_level  gi_smooth_3m_y  \n",
       "1342694     121           1                   2      322.283363  \n",
       "1342693     122           1                   2      322.283363  \n",
       "1342691     123           1                   2      322.283363  \n",
       "1342690     124           1                   2      322.283363  \n",
       "1342692     125           1                   2      322.283363  \n",
       "\n",
       "[5 rows x 43 columns]"
      ]
     },
     "execution_count": 29,
     "metadata": {},
     "output_type": "execute_result"
    }
   ],
   "source": [
    "df.head()"
   ]
  },
  {
   "cell_type": "code",
   "execution_count": 31,
   "metadata": {},
   "outputs": [],
   "source": [
    "df = df.fillna(0)"
   ]
  },
  {
   "cell_type": "code",
   "execution_count": 34,
   "metadata": {},
   "outputs": [
    {
     "data": {
      "text/plain": [
       "count    2.057178e+06\n",
       "mean    -3.289187e+03\n",
       "std      5.799219e+03\n",
       "min     -7.538658e+04\n",
       "25%     -4.758689e+03\n",
       "50%      0.000000e+00\n",
       "75%      0.000000e+00\n",
       "max      0.000000e+00\n",
       "Name: pl_balance, dtype: float64"
      ]
     },
     "execution_count": 34,
     "metadata": {},
     "output_type": "execute_result"
    }
   ],
   "source": [
    "df['pl_balance'].describe()"
   ]
  },
  {
   "cell_type": "code",
   "execution_count": 43,
   "metadata": {},
   "outputs": [],
   "source": [
    "df['all_credits_count'] = df['cur_quantity_pl'] + df['cur_quantity_mort']\n",
    "df['all_cards_count'] = df['cur_quantity_dc'] + df['cur_quantity_cc']\n",
    "df['all_accounts_count'] = df['cur_quantity_accounts'] + df['cur_quantity_deposits'] + df['cur_quantity_saccounts'] + df['cur_quantity_mf']\n",
    "df['pl_share'] = df['cur_quantity_pl'] / df['all_credits_count']\n",
    "df['mort_share'] = df['cur_quantity_mort'] / df['all_credits_count']\n",
    "df['dc_share'] = df['cur_quantity_dc'] / df['all_cards_count']\n",
    "df['cc_share'] = df['cur_quantity_cc'] / df['all_cards_count']\n",
    "df['acc_share'] = df['cur_quantity_accounts'] / df['all_accounts_count']\n",
    "df['dep_share'] = df['cur_quantity_deposits'] / df['all_accounts_count']\n",
    "df['sacc_share'] = df['cur_quantity_saccounts'] / df['all_accounts_count']\n",
    "df['mf_share'] = df['cur_quantity_mf'] / df['all_accounts_count']\n",
    "df['all_credits_sum'] = df['cc_balance'] + df['cl_balance'] + df['ml_balance'] + df['pl_balance']\n",
    "df['cc_sumshare'] = df['cc_balance'] / df['all_credits_sum']\n",
    "df['cl_sumshare'] = df['cl_balance'] / df['all_credits_sum']\n",
    "df['ml_sumshare'] = df['ml_balance'] / df['all_credits_sum']\n",
    "df['pl_sumshare'] = df['pl_balance'] / df['all_credits_sum']\n",
    "df['all_accounts_sum'] = df['td_volume'] + df['ca_volume'] + df['sa_volume'] + df['mf_volume']\n",
    "df['td_sumshare'] = df['td_volume'] / df['all_accounts_sum']\n",
    "df['ca_sumshare'] = df['ca_volume'] / df['all_accounts_sum']\n",
    "df['sa_sumshare'] = df['sa_volume'] / df['all_accounts_sum']\n",
    "df['mf_sumshare'] = df['mf_volume'] / df['all_accounts_sum']\n",
    "df['avg_cash_spend_cc'] = df['cc_cash_spend_v'] / df['cc_cash_spend_c']\n",
    "df['avg_cash_spend_dc'] = df['dc_cash_spend_v'] / df['dc_cash_spend_c']\n",
    "df['sum_spend_cash'] = df['cc_cash_spend_v'] + df['dc_cash_spend_v']\n",
    "df['count_spend_cash'] = df['cc_cash_spend_c'] + df['dc_cash_spend_c']\n",
    "df['dc_cash_share'] = df['dc_cash_spend_v'] / df['sum_spend_cash']\n",
    "df['cc_cash_share'] = df['cc_cash_spend_v'] / df['sum_spend_cash']\n",
    "df['pos_sum'] = df['dc_pos_spend_v'] + df['cc_pos_spend_v']\n",
    "df['pos_count'] = df['dc_pos_spend_c'] + df['cc_pos_spend_c']\n",
    "df['dc_pos_share_sum'] = df['dc_pos_spend_v'] / df['pos_sum']\n",
    "df['cc_pos_share_sum'] = df['cc_pos_spend_v'] / df['pos_sum']\n",
    "df['dc_pos_share_count'] = df['dc_pos_spend_c'] / df['pos_count']\n",
    "df['cc_pos_share_count'] = df['cc_pos_spend_c'] / df['pos_count']"
   ]
  },
  {
   "cell_type": "code",
   "execution_count": 44,
   "metadata": {},
   "outputs": [],
   "source": [
    "df.fillna(0, inplace=True)"
   ]
  },
  {
   "cell_type": "code",
   "execution_count": 75,
   "metadata": {},
   "outputs": [],
   "source": [
    "city = pd.get_dummies(df['big_city'])"
   ]
  },
  {
   "cell_type": "code",
   "execution_count": 80,
   "metadata": {},
   "outputs": [],
   "source": [
    "df = pd.concat([df, city], axis=1)"
   ]
  },
  {
   "cell_type": "code",
   "execution_count": 82,
   "metadata": {},
   "outputs": [],
   "source": [
    "df.drop(['big_city'], axis=1, inplace=True)"
   ]
  },
  {
   "cell_type": "code",
   "execution_count": 83,
   "metadata": {},
   "outputs": [],
   "source": [
    "tr = df.groupby('cif_id').mean()"
   ]
  },
  {
   "cell_type": "code",
   "execution_count": 85,
   "metadata": {},
   "outputs": [
    {
     "data": {
      "text/plain": [
       "(364617, 77)"
      ]
     },
     "execution_count": 85,
     "metadata": {},
     "output_type": "execute_result"
    }
   ],
   "source": [
    "tr.shape"
   ]
  },
  {
   "cell_type": "code",
   "execution_count": 88,
   "metadata": {},
   "outputs": [],
   "source": [
    "tr = pd.merge(tr, target, left_index=True, right_index=True)"
   ]
  },
  {
   "cell_type": "code",
   "execution_count": 91,
   "metadata": {},
   "outputs": [],
   "source": [
    "y = tr['gi_smooth_3m_y']"
   ]
  },
  {
   "cell_type": "code",
   "execution_count": 94,
   "metadata": {},
   "outputs": [],
   "source": [
    "tr.drop(['gi_smooth_3m_y', 'gi_smooth_3m'], inplace=True, axis=1)"
   ]
  },
  {
   "cell_type": "code",
   "execution_count": 98,
   "metadata": {},
   "outputs": [],
   "source": [
    "from sklearn.model_selection import train_test_split"
   ]
  },
  {
   "cell_type": "code",
   "execution_count": 107,
   "metadata": {},
   "outputs": [],
   "source": [
    "X_train, X_test, y_train, y_test = train_test_split(tr.values[:, 1:], y, test_size=0.2)"
   ]
  },
  {
   "cell_type": "code",
   "execution_count": 106,
   "metadata": {},
   "outputs": [
    {
     "data": {
      "text/plain": [
       "(68759, 75)"
      ]
     },
     "execution_count": 106,
     "metadata": {},
     "output_type": "execute_result"
    }
   ],
   "source": [
    "y_train.shape"
   ]
  },
  {
   "cell_type": "code",
   "execution_count": 100,
   "metadata": {},
   "outputs": [],
   "source": [
    "import lightgbm as lgb"
   ]
  },
  {
   "cell_type": "code",
   "execution_count": 101,
   "metadata": {},
   "outputs": [],
   "source": [
    "model = lgb.LGBMRegressor()"
   ]
  },
  {
   "cell_type": "code",
   "execution_count": 108,
   "metadata": {},
   "outputs": [
    {
     "data": {
      "text/plain": [
       "LGBMRegressor(boosting_type='gbdt', class_weight=None, colsample_bytree=1.0,\n",
       "       importance_type='split', learning_rate=0.1, max_depth=-1,\n",
       "       min_child_samples=20, min_child_weight=0.001, min_split_gain=0.0,\n",
       "       n_estimators=100, n_jobs=-1, num_leaves=31, objective=None,\n",
       "       random_state=None, reg_alpha=0.0, reg_lambda=0.0, silent=True,\n",
       "       subsample=1.0, subsample_for_bin=200000, subsample_freq=0)"
      ]
     },
     "execution_count": 108,
     "metadata": {},
     "output_type": "execute_result"
    }
   ],
   "source": [
    "model.fit(X_train, y_train)"
   ]
  },
  {
   "cell_type": "code",
   "execution_count": 109,
   "metadata": {},
   "outputs": [],
   "source": [
    "from sklearn.metrics import mean_absolute_error"
   ]
  },
  {
   "cell_type": "code",
   "execution_count": 110,
   "metadata": {},
   "outputs": [],
   "source": [
    "pred = model.predict(X_test)"
   ]
  },
  {
   "cell_type": "code",
   "execution_count": 116,
   "metadata": {},
   "outputs": [
    {
     "data": {
      "text/plain": [
       "398.10144899390923"
      ]
     },
     "execution_count": 116,
     "metadata": {},
     "output_type": "execute_result"
    }
   ],
   "source": [
    "MAPE(y_test, pred)"
   ]
  },
  {
   "cell_type": "code",
   "execution_count": 63,
   "metadata": {},
   "outputs": [
    {
     "data": {
      "image/png": "[encoded data removed]",
      "text/plain": [
       "<Figure size 720x360 with 1 Axes>"
      ]
     },
     "metadata": {
      "needs_background": "light"
     },
     "output_type": "display_data"
    }
   ],
   "source": [
    "import matplotlib.pyplot as plt\n",
    "from scipy.stats import trimboth\n",
    "\n",
    "plt.figure(figsize=(10,5))\n",
    "# plt.hist(df.salary.map(np.log), bins = 30)\n",
    "plt.hist(trimboth(df.salary, 0.01), bins = 30)\n",
    "# plt.xscale('log')\n",
    "plt.show()"
   ]
  },
  {
   "cell_type": "code",
   "execution_count": 68,
   "metadata": {},
   "outputs": [],
   "source": [
    "import hyperopt\n",
    "from hyperopt import hp, fmin, tpe, STATUS_OK, Trials\n",
    "from hyperopt.pyll import scope"
   ]
  },
  {
   "cell_type": "code",
   "execution_count": 69,
   "metadata": {},
   "outputs": [],
   "source": [
    "# Пространство перебора гиперпараметров для hyperopt\n",
    "\n",
    "space ={\n",
    "        'boosting_type': hp.choice( 'boosting_type', ['gbdt', 'dart' ] ),\n",
    "        'max_depth': scope.int(hp.quniform(\"max_depth\", 4, 9, 1)),\n",
    "        'n_estimators': scope.int(hp.quniform('n_estimators', 100, 1000, 10)),\n",
    "        'num_leaves': scope.int(hp.quniform ('num_leaves', 20, 100, 1)),\n",
    "        'min_data_in_leaf':  scope.int(hp.quniform ('min_data_in_leaf', 10, 100, 1)),\n",
    "        'feature_fraction': hp.uniform('feature_fraction', 0.75, 1.0),\n",
    "        'bagging_fraction': hp.uniform('bagging_fraction', 0.75, 1.0),\n",
    "        'learning_rate': hp.loguniform('learning_rate', -6.9, -0.5),\n",
    "        'min_sum_hessian_in_leaf': hp.loguniform('min_sum_hessian_in_leaf', 0, 2.3),\n",
    "        'lambda_l1': hp.uniform('lambda_l1', 1e-4, 1e-6 ),\n",
    "        'lambda_l2': hp.uniform('lambda_l2', 1e-4, 1e-6 ),\n",
    "        'seed': hp.randint('seed',2000000)\n",
    "       }"
   ]
  },
  {
   "cell_type": "code",
   "execution_count": 72,
   "metadata": {},
   "outputs": [],
   "source": [
    "\n",
    "# Целевая функция для hyperopt (по ней оптимизируемся)\n",
    "\n",
    "def objective(space):\n",
    "    clf = lgb.LGBMClassifier(**space)\n",
    "    current_score = cross_val_score(clf, x_train, y_train, cv = 5, scoring = make_scorer(MAPE, needs_proba = False)).mean()\n",
    "    return -current_score"
   ]
  }
 ],
 "metadata": {
  "kernelspec": {
   "display_name": "Python 3",
   "language": "python",
   "name": "python3"
  },
  "language_info": {
   "codemirror_mode": {
    "name": "ipython",
    "version": 3
   },
   "file_extension": ".py",
   "mimetype": "text/x-python",
   "name": "python",
   "nbconvert_exporter": "python",
   "pygments_lexer": "ipython3",
   "version": "3.7.3"
  }
 },
 "nbformat": 4,
 "nbformat_minor": 2
}
