{
 "cells": [
  {
   "cell_type": "code",
   "execution_count": 1,
   "metadata": {},
   "outputs": [],
   "source": [
    "# Импорт библиотек\n",
    "import numpy as np\n",
    "import pandas as pd\n",
    "import lightgbm as lgb\n",
    "import hyperopt\n",
    "import random\n",
    "import time\n",
    "from hyperopt import hp, fmin, tpe, STATUS_OK, Trials\n",
    "from hyperopt.pyll import scope\n",
    "from sklearn.model_selection import train_test_split\n",
    "from sklearn.impute import SimpleImputer\n",
    "from sklearn.ensemble import IsolationForest\n",
    "from sklearn.metrics import accuracy_score, recall_score, precision_score, roc_auc_score\n",
    "from sklearn.model_selection import cross_val_score\n",
    "from sklearn.metrics import make_scorer\n",
    "import matplotlib.pyplot as plt"
   ]
  },
  {
   "cell_type": "code",
   "execution_count": 2,
   "metadata": {},
   "outputs": [],
   "source": [
    "df = pd.read_csv('C:/Users/DFursov/Documents/WORK_FILTER_FOR_ABTR_30NOV18.csv', sep = ';', nrows = 700000, encoding = 'cp1251')"
   ]
  },
  {
   "cell_type": "code",
   "execution_count": 3,
   "metadata": {},
   "outputs": [],
   "source": [
    "# Определение технических функций для очистки таблиц\n",
    "\n",
    "def DelTargetColumns(df, target):\n",
    "    cols = []\n",
    "    for i in df.columns:\n",
    "        if i.find('tar_') != -1:\n",
    "            cols.append(i)\n",
    "    if target in df.columns:\n",
    "        cols.remove(target)\n",
    "    else:\n",
    "        raise NameError('''This column don't exist in pd.DataFrame''')\n",
    "    df = df.drop(cols, axis = 1)\n",
    "    return df\n",
    "\n",
    "def DelObjectColumns(df):\n",
    "    cols = []\n",
    "    for i in df.columns:\n",
    "        if df[i].dtype == 'O':\n",
    "            cols.append(i)\n",
    "    df = df.drop(cols, axis = 1)\n",
    "    return df"
   ]
  },
  {
   "cell_type": "code",
   "execution_count": 4,
   "metadata": {},
   "outputs": [],
   "source": [
    "target = 'tar_hairmask_14d'\n",
    "df = DelTargetColumns(df, target)\n",
    "df = DelObjectColumns(df)"
   ]
  },
  {
   "cell_type": "code",
   "execution_count": 5,
   "metadata": {},
   "outputs": [],
   "source": [
    "train_columns = list(df.columns)\n",
    "train_columns.remove('itm_amo_sum_12m_soap')\n",
    "train_columns.remove('itm_amo_sum_6m_soap')\n",
    "train_columns.remove('itm_amo_sum_3m_soap')\n",
    "train_columns.remove('itm_amo_sum_1m_soap')\n",
    "train_columns.remove('itm_cnt_sum_12m_soap')\n",
    "train_columns.remove('itm_cnt_sum_6m_soap')\n",
    "train_columns.remove('itm_cnt_sum_3m_soap')\n",
    "train_columns.remove('itm_cnt_sum_1m_soap')\n",
    "train_columns.remove('itm_ind_12m_soap')\n",
    "train_columns.remove('itm_ind_6m_soap')\n",
    "train_columns.remove('itm_ind_3m_soap')\n",
    "train_columns.remove('itm_ind_1m_soap')\n",
    "train_columns.remove('itm_days_soap')\n",
    "train_columns.remove(target)\n",
    "\n",
    "y = df[target]\n",
    "X = df[train_columns]\n",
    "del df\n",
    "\n",
    "# Откладываем 20% данных для тестовой выборки. Валидируемся кросс-валидацией на 5 фолдов на train-наборе\n",
    "x_train, x_test, y_train, y_test = train_test_split(X, y, test_size = 0.2)"
   ]
  },
  {
   "cell_type": "code",
   "execution_count": 6,
   "metadata": {},
   "outputs": [
    {
     "name": "stderr",
     "output_type": "stream",
     "text": [
      "C:\\Users\\DFursov\\AppData\\Local\\Continuum\\anaconda3\\lib\\site-packages\\sklearn\\ensemble\\iforest.py:213: FutureWarning: default contamination parameter 0.1 will change in version 0.22 to \"auto\". This will change the predict method behavior.\n",
      "  FutureWarning)\n",
      "C:\\Users\\DFursov\\AppData\\Local\\Continuum\\anaconda3\\lib\\site-packages\\sklearn\\ensemble\\iforest.py:223: FutureWarning: behaviour=\"old\" is deprecated and will be removed in version 0.22. Please use behaviour=\"new\", which makes the decision_function change to match other anomaly detection algorithm API.\n",
      "  FutureWarning)\n",
      "C:\\Users\\DFursov\\AppData\\Local\\Continuum\\anaconda3\\lib\\site-packages\\sklearn\\ensemble\\iforest.py:417: DeprecationWarning: threshold_ attribute is deprecated in 0.20 and will be removed in 0.22.\n",
      "  \" be removed in 0.22.\", DeprecationWarning)\n"
     ]
    }
   ],
   "source": [
    "# Убираем выбросы из данных и заменяем пропущенные значения медианами\n",
    "\n",
    "del X\n",
    "del y\n",
    "smp = SimpleImputer(strategy = 'median')\n",
    "x_train = smp.fit_transform(x_train)\n",
    "x_test = smp.transform(x_test)\n",
    "iso_forest = IsolationForest(random_state = 42, bootstrap = True)\n",
    "outliers = iso_forest.fit_predict(x_train, y_train)\n",
    "x_train = pd.DataFrame(data = x_train, columns = train_columns)\n",
    "x_train['outliers'] = outliers\n",
    "x_train = x_train[x_train['outliers'] == 1]\n",
    "x_train = x_train.drop('outliers', axis = 1)\n",
    "y_train = y_train[outliers == 1]\n",
    "x_train.replace(-np.inf, 0, inplace = True)\n",
    "x_train.replace(np.inf, 0, inplace = True)"
   ]
  },
  {
   "cell_type": "markdown",
   "metadata": {},
   "source": [
    "### Неоткалиброванный классификатор + hyperopt"
   ]
  },
  {
   "cell_type": "code",
   "execution_count": 7,
   "metadata": {},
   "outputs": [],
   "source": [
    "# Пространство перебора гиперпараметров для hyperopt\n",
    "\n",
    "space ={\n",
    "        'boosting_type': hp.choice( 'boosting_type', ['gbdt', 'dart' ] ),\n",
    "        'max_depth': scope.int(hp.quniform(\"max_depth\", 4, 10, 1)),\n",
    "        'n_estimators': scope.int(hp.quniform('n_estimators', 100, 1000, 10)),\n",
    "        'num_leaves': scope.int(hp.quniform ('num_leaves', 20, 100, 1)),\n",
    "        'min_data_in_leaf':  scope.int(hp.quniform ('min_data_in_leaf', 10, 100, 1)),\n",
    "        'feature_fraction': hp.uniform('feature_fraction', 0.6, 1.0),\n",
    "        'bagging_fraction': hp.uniform('bagging_fraction', 0.6, 1.0),\n",
    "        'learning_rate': hp.uniform('learning_rate', 0.001, 0.4),\n",
    "        'lambda_l1': hp.uniform('lambda_l1', 1e-6, 5 ),\n",
    "        'lambda_l2': hp.uniform('lambda_l2', 1e-6, 5 ),\n",
    "        'seed': hp.randint('seed',2000000)\n",
    "       }"
   ]
  },
  {
   "cell_type": "code",
   "execution_count": 8,
   "metadata": {},
   "outputs": [],
   "source": [
    "# Целевая функция для hyperopt (по ней оптимизируемся)\n",
    "\n",
    "def objective(space):\n",
    "    clf = lgb.LGBMClassifier(**space)\n",
    "    current_score = cross_val_score(clf, x_train, y_train, cv = 5, scoring = make_scorer(roc_auc_score, needs_proba = True)).mean()\n",
    "    return -current_score"
   ]
  },
  {
   "cell_type": "code",
   "execution_count": 9,
   "metadata": {},
   "outputs": [
    {
     "name": "stdout",
     "output_type": "stream",
     "text": [
      "100%|█████████████████████████████████████████████| 30/30 [11:02:37<00:00, 1236.72s/it, best loss: -0.7693743237816314]\n"
     ]
    }
   ],
   "source": [
    "# Оптимизация hyperopt\n",
    "\n",
    "best = fmin(fn = objective, space = space, algo = tpe.suggest, max_evals = 30)"
   ]
  },
  {
   "cell_type": "code",
   "execution_count": 10,
   "metadata": {},
   "outputs": [
    {
     "data": {
      "text/plain": [
       "{'bagging_fraction': 0.600248312307422,\n",
       " 'boosting_type': 0,\n",
       " 'feature_fraction': 0.7918931369413271,\n",
       " 'lambda_l1': 3.7810142882434405,\n",
       " 'lambda_l2': 3.087231869961073,\n",
       " 'learning_rate': 0.00691252861975232,\n",
       " 'max_depth': 5.0,\n",
       " 'min_data_in_leaf': 30.0,\n",
       " 'n_estimators': 670.0,\n",
       " 'num_leaves': 82.0,\n",
       " 'seed': 286741}"
      ]
     },
     "execution_count": 10,
     "metadata": {},
     "output_type": "execute_result"
    }
   ],
   "source": [
    "best # наилучшие гиперпараметры"
   ]
  },
  {
   "cell_type": "code",
   "execution_count": 13,
   "metadata": {},
   "outputs": [],
   "source": [
    "# определеяем модель с подобранными гиперпараметрами\n",
    "lgb_model = lgb.LGBMClassifier(bagging_fraction = 0.600248312307422,\n",
    " boosting_type = 'gbdt',\n",
    " feature_fraction = 0.7918931369413271,\n",
    " lambda_l1 = 3.7810142882434405,\n",
    " lambda_l2 = 3.087231869961073,\n",
    " learning_rate = 0.00691252861975232,\n",
    " max_depth = 5,\n",
    " min_data_in_leaf = 30,\n",
    " n_estimators = 670,\n",
    " num_leaves = 82,\n",
    " seed = 286741)"
   ]
  },
  {
   "cell_type": "code",
   "execution_count": 14,
   "metadata": {},
   "outputs": [
    {
     "data": {
      "text/plain": [
       "LGBMClassifier(bagging_fraction=0.600248312307422, boosting_type='gbdt',\n",
       "        class_weight=None, colsample_bytree=1.0,\n",
       "        feature_fraction=0.7918931369413271, importance_type='split',\n",
       "        lambda_l1=3.7810142882434405, lambda_l2=3.087231869961073,\n",
       "        learning_rate=0.00691252861975232, max_depth=5,\n",
       "        min_child_samples=20, min_child_weight=0.001, min_data_in_leaf=30,\n",
       "        min_split_gain=0.0, n_estimators=670, n_jobs=-1, num_leaves=82,\n",
       "        objective=None, random_state=None, reg_alpha=0.0, reg_lambda=0.0,\n",
       "        seed=286741, silent=True, subsample=1.0, subsample_for_bin=200000,\n",
       "        subsample_freq=0)"
      ]
     },
     "execution_count": 14,
     "metadata": {},
     "output_type": "execute_result"
    }
   ],
   "source": [
    "lgb_model.fit(x_train, y_train)"
   ]
  },
  {
   "cell_type": "code",
   "execution_count": 15,
   "metadata": {},
   "outputs": [],
   "source": [
    "# предсказания для трейна/теста\n",
    "lgb_predict_train = lgb_model.predict_proba(x_train)[:,1]\n",
    "lgb_predict_test = lgb_model.predict_proba(x_test)[:,1]"
   ]
  },
  {
   "cell_type": "code",
   "execution_count": 17,
   "metadata": {},
   "outputs": [],
   "source": [
    "lgb_pred = pd.Series(lgb_predict_test)\n",
    "lgb_pred = lgb_pred.apply(lambda x: 1 if x >= 0.06 else 0)"
   ]
  },
  {
   "cell_type": "code",
   "execution_count": 18,
   "metadata": {},
   "outputs": [
    {
     "name": "stdout",
     "output_type": "stream",
     "text": [
      "0.9715214285714285\n",
      "0.20866666666666667\n",
      "0.1005460970125281\n"
     ]
    }
   ],
   "source": [
    "print(accuracy_score(y_test, lgb_pred))\n",
    "print(recall_score(y_test, lgb_pred))\n",
    "print(precision_score(y_test, lgb_pred))"
   ]
  },
  {
   "cell_type": "code",
   "execution_count": 19,
   "metadata": {},
   "outputs": [
    {
     "data": {
      "text/plain": [
       "array([[135700,   2800],\n",
       "       [  1187,    313]], dtype=int64)"
      ]
     },
     "execution_count": 19,
     "metadata": {},
     "output_type": "execute_result"
    }
   ],
   "source": [
    "from sklearn.metrics import confusion_matrix\n",
    "confusion_matrix(y_test, lgb_pred)"
   ]
  },
  {
   "cell_type": "code",
   "execution_count": 20,
   "metadata": {},
   "outputs": [],
   "source": [
    "rc = list()\n",
    "prob = 0\n",
    "while prob < 1:\n",
    "    prob += 0.01\n",
    "    lgb_pred = pd.Series(lgb_predict_test)\n",
    "    lgb_pred = lgb_pred.apply(lambda x: 1 if x >= prob else 0)\n",
    "    rc.append(recall_score(y_test, lgb_pred))"
   ]
  },
  {
   "cell_type": "code",
   "execution_count": 21,
   "metadata": {},
   "outputs": [
    {
     "name": "stderr",
     "output_type": "stream",
     "text": [
      "C:\\Users\\DFursov\\AppData\\Local\\Continuum\\anaconda3\\lib\\site-packages\\sklearn\\metrics\\classification.py:1143: UndefinedMetricWarning: Precision is ill-defined and being set to 0.0 due to no predicted samples.\n",
      "  'precision', 'predicted', average, warn_for)\n"
     ]
    }
   ],
   "source": [
    "prec = list()\n",
    "prob = 0\n",
    "while prob < 1:\n",
    "    prob += 0.01\n",
    "    lgb_pred = pd.Series(lgb_predict_test)\n",
    "    lgb_pred = lgb_pred.apply(lambda x: 1 if x >= prob else 0)\n",
    "    prec.append(precision_score(y_test, lgb_pred))"
   ]
  },
  {
   "cell_type": "code",
   "execution_count": 22,
   "metadata": {},
   "outputs": [
    {
     "data": {
      "text/plain": [
       "[<matplotlib.lines.Line2D at 0x12584736a20>]"
      ]
     },
     "execution_count": 22,
     "metadata": {},
     "output_type": "execute_result"
    },
    {
     "data": {
      "image/png": "[encoded data removed]",
      "text/plain": [
       "<Figure size 1440x720 with 1 Axes>"
      ]
     },
     "metadata": {
      "needs_background": "light"
     },
     "output_type": "display_data"
    }
   ],
   "source": [
    "plt.figure(figsize = (20, 10))\n",
    "plt.plot(prec)"
   ]
  },
  {
   "cell_type": "code",
   "execution_count": 23,
   "metadata": {},
   "outputs": [
    {
     "data": {
      "text/plain": [
       "[<matplotlib.lines.Line2D at 0x1258480f668>]"
      ]
     },
     "execution_count": 23,
     "metadata": {},
     "output_type": "execute_result"
    },
    {
     "data": {
      "image/png": "[encoded data removed]",
      "text/plain": [
       "<Figure size 1440x720 with 1 Axes>"
      ]
     },
     "metadata": {
      "needs_background": "light"
     },
     "output_type": "display_data"
    }
   ],
   "source": [
    "plt.figure(figsize = (20, 10))\n",
    "plt.plot(rc)"
   ]
  },
  {
   "cell_type": "code",
   "execution_count": 24,
   "metadata": {},
   "outputs": [
    {
     "data": {
      "image/png": "[encoded data removed]",
      "text/plain": [
       "<Figure size 432x288 with 1 Axes>"
      ]
     },
     "metadata": {
      "needs_background": "light"
     },
     "output_type": "display_data"
    }
   ],
   "source": [
    "import matplotlib.pyplot as plt\n",
    "plt.hist(lgb_predict_test, bins = 25)\n",
    "plt.show()"
   ]
  },
  {
   "cell_type": "code",
   "execution_count": 25,
   "metadata": {},
   "outputs": [],
   "source": [
    "from sklearn.metrics import f1_score"
   ]
  },
  {
   "cell_type": "code",
   "execution_count": 26,
   "metadata": {},
   "outputs": [],
   "source": [
    "lgb_pred = pd.Series(lgb_predict_test)\n",
    "lgb_pred = lgb_pred.apply(lambda x: 1 if x >= 0.5 else 0)"
   ]
  },
  {
   "cell_type": "code",
   "execution_count": 27,
   "metadata": {},
   "outputs": [
    {
     "name": "stderr",
     "output_type": "stream",
     "text": [
      "C:\\Users\\DFursov\\AppData\\Local\\Continuum\\anaconda3\\lib\\site-packages\\sklearn\\metrics\\classification.py:1143: UndefinedMetricWarning: F-score is ill-defined and being set to 0.0 due to no predicted samples.\n",
      "  'precision', 'predicted', average, warn_for)\n"
     ]
    },
    {
     "name": "stdout",
     "output_type": "stream",
     "text": [
      "0.0\n"
     ]
    }
   ],
   "source": [
    "print(f1_score(y_test, lgb_pred))"
   ]
  },
  {
   "cell_type": "code",
   "execution_count": 28,
   "metadata": {},
   "outputs": [
    {
     "name": "stdout",
     "output_type": "stream",
     "text": [
      "0.8260878707069115\n",
      "0.7893414440433214\n"
     ]
    }
   ],
   "source": [
    "print(roc_auc_score(y_train, lgb_predict_train))\n",
    "print(roc_auc_score(y_test, lgb_predict_test))"
   ]
  },
  {
   "cell_type": "code",
   "execution_count": 29,
   "metadata": {},
   "outputs": [
    {
     "data": {
      "text/plain": [
       "['lgb_tar_hairmask_14d_clear.pkl']"
      ]
     },
     "execution_count": 29,
     "metadata": {},
     "output_type": "execute_result"
    }
   ],
   "source": [
    "from sklearn.externals import joblib\n",
    "joblib.dump(lgb_model, 'lgb_tar_hairmask_14d_clear.pkl')"
   ]
  },
  {
   "cell_type": "code",
   "execution_count": 30,
   "metadata": {},
   "outputs": [],
   "source": [
    "bst = joblib.load('lgb_tar_14d.pkl')"
   ]
  },
  {
   "cell_type": "code",
   "execution_count": 31,
   "metadata": {},
   "outputs": [],
   "source": [
    "imp = pd.Series(lgb_model.feature_importances_, index = train_columns)"
   ]
  },
  {
   "cell_type": "code",
   "execution_count": 32,
   "metadata": {},
   "outputs": [],
   "source": [
    "from sklearn.calibration import calibration_curve"
   ]
  },
  {
   "cell_type": "code",
   "execution_count": 33,
   "metadata": {},
   "outputs": [],
   "source": [
    "fop, mpv = calibration_curve(y_test, lgb_predict_test, n_bins = 10)"
   ]
  },
  {
   "cell_type": "code",
   "execution_count": 34,
   "metadata": {},
   "outputs": [
    {
     "data": {
      "text/plain": [
       "[<matplotlib.lines.Line2D at 0x12584332e80>]"
      ]
     },
     "execution_count": 34,
     "metadata": {},
     "output_type": "execute_result"
    },
    {
     "data": {
      "image/png": "[encoded data removed]",
      "text/plain": [
       "<Figure size 1440x720 with 1 Axes>"
      ]
     },
     "metadata": {
      "needs_background": "light"
     },
     "output_type": "display_data"
    }
   ],
   "source": [
    "plt.figure(figsize = (20, 10))\n",
    "plt.plot([0, 1], [0, 1], linestyle = '--', color = 'black')\n",
    "plt.plot(mpv, fop, marker = '.', color = 'red')"
   ]
  },
  {
   "cell_type": "markdown",
   "metadata": {},
   "source": [
    "### Откалиброванный классификатор"
   ]
  },
  {
   "cell_type": "code",
   "execution_count": 35,
   "metadata": {},
   "outputs": [],
   "source": [
    "from sklearn.calibration import CalibratedClassifierCV\n",
    "lgb_model2 = lgb.LGBMClassifier(bagging_fraction = 0.600248312307422,\n",
    " boosting_type = 'gbdt',\n",
    " feature_fraction = 0.7918931369413271,\n",
    " lambda_l1 = 3.7810142882434405,\n",
    " lambda_l2 = 3.087231869961073,\n",
    " learning_rate = 0.00691252861975232,\n",
    " max_depth = 5,\n",
    " min_data_in_leaf = 30,\n",
    " n_estimators = 670,\n",
    " num_leaves = 82,\n",
    " seed = 286741)\n",
    "\n",
    "lgb_calibrated = CalibratedClassifierCV(base_estimator = lgb_model2, method = 'isotonic', cv = 5)"
   ]
  },
  {
   "cell_type": "code",
   "execution_count": 36,
   "metadata": {},
   "outputs": [
    {
     "data": {
      "text/plain": [
       "CalibratedClassifierCV(base_estimator=LGBMClassifier(bagging_fraction=0.600248312307422, boosting_type='gbdt',\n",
       "        class_weight=None, colsample_bytree=1.0,\n",
       "        feature_fraction=0.7918931369413271, importance_type='split',\n",
       "        lambda_l1=3.7810142882434405, lambda_l2=3.087231869961073,\n",
       "        learning_rate=0.00...        seed=286741, silent=True, subsample=1.0, subsample_for_bin=200000,\n",
       "        subsample_freq=0),\n",
       "            cv=5, method='isotonic')"
      ]
     },
     "execution_count": 36,
     "metadata": {},
     "output_type": "execute_result"
    }
   ],
   "source": [
    "lgb_calibrated.fit(x_train, y_train)"
   ]
  },
  {
   "cell_type": "code",
   "execution_count": 37,
   "metadata": {},
   "outputs": [],
   "source": [
    "pred_calibrated = lgb_calibrated.predict_proba(x_test)[:, 1]"
   ]
  },
  {
   "cell_type": "code",
   "execution_count": 38,
   "metadata": {},
   "outputs": [
    {
     "data": {
      "text/plain": [
       "[<matplotlib.lines.Line2D at 0x1266faed908>]"
      ]
     },
     "execution_count": 38,
     "metadata": {},
     "output_type": "execute_result"
    },
    {
     "data": {
      "image/png": "[encoded data removed]",
      "text/plain": [
       "<Figure size 720x720 with 1 Axes>"
      ]
     },
     "metadata": {
      "needs_background": "light"
     },
     "output_type": "display_data"
    }
   ],
   "source": [
    "fop_calibrated, mpv_calibrated = calibration_curve(y_test, pred_calibrated, n_bins = 10)\n",
    "plt.figure(figsize = (10, 10))\n",
    "plt.plot([0,1], [0,1], linestyle = '--', color = 'black')\n",
    "plt.plot(mpv_calibrated, fop_calibrated, marker = '.', color = 'red')"
   ]
  },
  {
   "cell_type": "code",
   "execution_count": 39,
   "metadata": {},
   "outputs": [
    {
     "data": {
      "text/plain": [
       "['lgb_calibrated_tar_hairmask_14d.pkl']"
      ]
     },
     "execution_count": 39,
     "metadata": {},
     "output_type": "execute_result"
    }
   ],
   "source": [
    "joblib.dump(lgb_calibrated, 'lgb_calibrated_tar_hairmask_14d.pkl')"
   ]
  },
  {
   "cell_type": "code",
   "execution_count": 40,
   "metadata": {},
   "outputs": [
    {
     "name": "stdout",
     "output_type": "stream",
     "text": [
      "0.7901178580024067\n"
     ]
    }
   ],
   "source": [
    "print(roc_auc_score(y_test, pred_calibrated))"
   ]
  },
  {
   "cell_type": "code",
   "execution_count": 42,
   "metadata": {},
   "outputs": [
    {
     "name": "stdout",
     "output_type": "stream",
     "text": [
      "0.9704571428571429\n",
      "0.21466666666666667\n",
      "0.09817073170731708\n"
     ]
    }
   ],
   "source": [
    "lgb_pred2 = pd.Series(pred_calibrated)\n",
    "lgb_pred2 = lgb_pred2.apply(lambda x: 1 if x >= 0.06 else 0)\n",
    "print(accuracy_score(y_test, lgb_pred2))\n",
    "print(recall_score(y_test, lgb_pred2))\n",
    "print(precision_score(y_test, lgb_pred2))"
   ]
  },
  {
   "cell_type": "code",
   "execution_count": 43,
   "metadata": {},
   "outputs": [
    {
     "data": {
      "text/plain": [
       "array([[135542,   2958],\n",
       "       [  1178,    322]], dtype=int64)"
      ]
     },
     "execution_count": 43,
     "metadata": {},
     "output_type": "execute_result"
    }
   ],
   "source": [
    "confusion_matrix(y_test, lgb_pred2)"
   ]
  },
  {
   "cell_type": "code",
   "execution_count": 44,
   "metadata": {},
   "outputs": [
    {
     "data": {
      "text/plain": [
       "0.23955098110027687"
      ]
     },
     "execution_count": 44,
     "metadata": {},
     "output_type": "execute_result"
    }
   ],
   "source": [
    "pred_calibrated.max()"
   ]
  },
  {
   "cell_type": "code",
   "execution_count": 45,
   "metadata": {},
   "outputs": [
    {
     "data": {
      "text/plain": [
       "(array([9.3529e+04, 2.4006e+04, 8.0730e+03, 4.1920e+03, 2.4560e+03,\n",
       "        1.8850e+03, 1.0030e+03, 7.2800e+02, 5.4300e+02, 5.5700e+02,\n",
       "        4.3000e+02, 1.8400e+02, 1.6200e+02, 1.3400e+02, 1.0600e+02,\n",
       "        9.3000e+01, 7.1000e+01, 7.6000e+01, 7.3000e+01, 6.6000e+01,\n",
       "        5.8000e+01, 1.9000e+01, 2.6000e+01, 4.0000e+00, 1.1000e+01,\n",
       "        7.0000e+00, 1.0000e+00, 4.0000e+00, 2.0000e+00, 1.0000e+00]),\n",
       " array([0.        , 0.00798503, 0.01597007, 0.0239551 , 0.03194013,\n",
       "        0.03992516, 0.0479102 , 0.05589523, 0.06388026, 0.07186529,\n",
       "        0.07985033, 0.08783536, 0.09582039, 0.10380543, 0.11179046,\n",
       "        0.11977549, 0.12776052, 0.13574556, 0.14373059, 0.15171562,\n",
       "        0.15970065, 0.16768569, 0.17567072, 0.18365575, 0.19164078,\n",
       "        0.19962582, 0.20761085, 0.21559588, 0.22358092, 0.23156595,\n",
       "        0.23955098]),\n",
       " <a list of 30 Patch objects>)"
      ]
     },
     "execution_count": 45,
     "metadata": {},
     "output_type": "execute_result"
    },
    {
     "data": {
      "image/png": "[encoded data removed]",
      "text/plain": [
       "<Figure size 1440x720 with 1 Axes>"
      ]
     },
     "metadata": {
      "needs_background": "light"
     },
     "output_type": "display_data"
    }
   ],
   "source": [
    "plt.figure(figsize = (20, 10))\n",
    "plt.hist(pred_calibrated[y_test == 0], bins = 30)"
   ]
  },
  {
   "cell_type": "code",
   "execution_count": 46,
   "metadata": {},
   "outputs": [
    {
     "data": {
      "text/plain": [
       "0.03796061662088431"
      ]
     },
     "execution_count": 46,
     "metadata": {},
     "output_type": "execute_result"
    }
   ],
   "source": [
    "pred_calibrated[y_test == 1].mean()"
   ]
  },
  {
   "cell_type": "code",
   "execution_count": 47,
   "metadata": {},
   "outputs": [
    {
     "data": {
      "text/plain": [
       "(array([371., 259., 161., 112.,  97.,  85.,  57.,  45.,  35.,  45.,  50.,\n",
       "         20.,  23.,  13.,  13.,  14.,   8.,  21.,  15.,  16.,  12.,   7.,\n",
       "          2.,   5.,   2.,   4.,   1.,   1.,   5.,   1.]),\n",
       " array([0.0003291 , 0.0079857 , 0.0156423 , 0.0232989 , 0.03095551,\n",
       "        0.03861211, 0.04626871, 0.05392531, 0.06158192, 0.06923852,\n",
       "        0.07689512, 0.08455172, 0.09220833, 0.09986493, 0.10752153,\n",
       "        0.11517813, 0.12283474, 0.13049134, 0.13814794, 0.14580454,\n",
       "        0.15346115, 0.16111775, 0.16877435, 0.17643095, 0.18408756,\n",
       "        0.19174416, 0.19940076, 0.20705736, 0.21471397, 0.22237057,\n",
       "        0.23002717]),\n",
       " <a list of 30 Patch objects>)"
      ]
     },
     "execution_count": 47,
     "metadata": {},
     "output_type": "execute_result"
    },
    {
     "data": {
      "image/png": "[encoded data removed]",
      "text/plain": [
       "<Figure size 1440x720 with 1 Axes>"
      ]
     },
     "metadata": {
      "needs_background": "light"
     },
     "output_type": "display_data"
    }
   ],
   "source": [
    "plt.figure(figsize = (20, 10))\n",
    "plt.hist(pred_calibrated[y_test == 1], bins = 30)"
   ]
  },
  {
   "cell_type": "code",
   "execution_count": 48,
   "metadata": {},
   "outputs": [
    {
     "data": {
      "text/plain": [
       "(array([1.06715e+05, 1.88930e+04, 5.46600e+03, 3.06700e+03, 1.38700e+03,\n",
       "        8.87000e+02, 7.61000e+02, 4.10000e+02, 2.36000e+02, 1.66000e+02,\n",
       "        1.25000e+02, 1.15000e+02, 1.22000e+02, 7.50000e+01, 3.40000e+01,\n",
       "        1.50000e+01, 1.20000e+01, 7.00000e+00, 4.00000e+00, 3.00000e+00]),\n",
       " array([0.        , 0.01197755, 0.0239551 , 0.03593265, 0.0479102 ,\n",
       "        0.05988775, 0.07186529, 0.08384284, 0.09582039, 0.10779794,\n",
       "        0.11977549, 0.13175304, 0.14373059, 0.15570814, 0.16768569,\n",
       "        0.17966324, 0.19164078, 0.20361833, 0.21559588, 0.22757343,\n",
       "        0.23955098]),\n",
       " <a list of 20 Patch objects>)"
      ]
     },
     "execution_count": 48,
     "metadata": {},
     "output_type": "execute_result"
    },
    {
     "data": {
      "image/png": "[encoded data removed]",
      "text/plain": [
       "<Figure size 1440x720 with 1 Axes>"
      ]
     },
     "metadata": {
      "needs_background": "light"
     },
     "output_type": "display_data"
    }
   ],
   "source": [
    "plt.figure(figsize = (20, 10))\n",
    "plt.hist(pred_calibrated[y_test == 0], bins = 20)"
   ]
  },
  {
   "cell_type": "code",
   "execution_count": 49,
   "metadata": {},
   "outputs": [
    {
     "data": {
      "text/plain": [
       "0.09308989564591061"
      ]
     },
     "execution_count": 49,
     "metadata": {},
     "output_type": "execute_result"
    }
   ],
   "source": [
    "pred_calibrated[pred_calibrated > 0.06].mean()"
   ]
  },
  {
   "cell_type": "code",
   "execution_count": 50,
   "metadata": {},
   "outputs": [
    {
     "name": "stderr",
     "output_type": "stream",
     "text": [
      "C:\\Users\\DFursov\\AppData\\Local\\Continuum\\anaconda3\\lib\\site-packages\\sklearn\\metrics\\classification.py:1143: UndefinedMetricWarning: F-score is ill-defined and being set to 0.0 due to no predicted samples.\n",
      "  'precision', 'predicted', average, warn_for)\n"
     ]
    }
   ],
   "source": [
    "fsc = list()\n",
    "best_prob = 0\n",
    "max_f = 0\n",
    "prob = 0\n",
    "while prob < 0.7:\n",
    "    prob += 0.01\n",
    "    lgb_pred2 = pd.Series(pred_calibrated)\n",
    "    lgb_pred2 = lgb_pred2.apply(lambda x: 1 if x >= prob else 0)\n",
    "    fsc.append(f1_score(y_test, lgb_pred2))\n",
    "    if f1_score(y_test, lgb_pred2) > max_f:\n",
    "        best_prob = prob\n",
    "        max_f = f1_score(y_test, lgb_pred2) "
   ]
  },
  {
   "cell_type": "code",
   "execution_count": 51,
   "metadata": {},
   "outputs": [
    {
     "name": "stdout",
     "output_type": "stream",
     "text": [
      "0.07\n"
     ]
    }
   ],
   "source": [
    "print(best_prob)"
   ]
  },
  {
   "cell_type": "code",
   "execution_count": 52,
   "metadata": {},
   "outputs": [],
   "source": [
    "imp = pd.Series(lgb_model.feature_importances_, index = train_columns)"
   ]
  },
  {
   "cell_type": "code",
   "execution_count": 53,
   "metadata": {},
   "outputs": [],
   "source": [
    "imp.sort_values(ascending = False).to_csv('importances_tar_hairmask_14d.csv', index = True, sep = ';')"
   ]
  }
 ],
 "metadata": {
  "kernelspec": {
   "display_name": "Python 3",
   "language": "python",
   "name": "python3"
  },
  "language_info": {
   "codemirror_mode": {
    "name": "ipython",
    "version": 3
   },
   "file_extension": ".py",
   "mimetype": "text/x-python",
   "name": "python",
   "nbconvert_exporter": "python",
   "pygments_lexer": "ipython3",
   "version": "3.6.7"
  }
 },
 "nbformat": 4,
 "nbformat_minor": 2
}
